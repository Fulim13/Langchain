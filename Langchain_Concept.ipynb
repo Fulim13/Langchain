{
 "cells": [
  {
   "cell_type": "markdown",
   "metadata": {},
   "source": [
    "# ChatModel, System/Human/AI Message (invoke)\n"
   ]
  },
  {
   "cell_type": "code",
   "execution_count": 20,
   "metadata": {},
   "outputs": [
    {
     "name": "stdout",
     "output_type": "stream",
     "text": [
      "content=\"Sure! Here is a list of the top 10 NBA players of all time, in no particular order:\\n\\n1. Michael Jordan\\n2. LeBron James\\n3. Magic Johnson\\n4. Larry Bird\\n5. Kareem Abdul-Jabbar\\n6. Kobe Bryant\\n7. Shaquille O'Neal\\n8. Tim Duncan\\n9. Hakeem Olajuwon\\n10. Bill Russell\\n\\nThese players are widely regarded as some of the greatest to ever play the game of basketball.\" response_metadata={'token_usage': {'completion_tokens': 103, 'prompt_tokens': 34, 'total_tokens': 137}, 'model_name': 'gpt-3.5-turbo-0125', 'system_fingerprint': None, 'finish_reason': 'stop', 'logprobs': None} id='run-022bf7d7-1e99-48ce-b7c2-64f12ef3aa0e-0' usage_metadata={'input_tokens': 34, 'output_tokens': 103, 'total_tokens': 137}\n",
      "Sure! Here is a list of the top 10 NBA players of all time, in no particular order:\n",
      "\n",
      "1. Michael Jordan\n",
      "2. LeBron James\n",
      "3. Magic Johnson\n",
      "4. Larry Bird\n",
      "5. Kareem Abdul-Jabbar\n",
      "6. Kobe Bryant\n",
      "7. Shaquille O'Neal\n",
      "8. Tim Duncan\n",
      "9. Hakeem Olajuwon\n",
      "10. Bill Russell\n",
      "\n",
      "These players are widely regarded as some of the greatest to ever play the game of basketball.\n"
     ]
    }
   ],
   "source": [
    "from langchain_openai import ChatOpenAI\n",
    "from langchain.schema import SystemMessage, HumanMessage, AIMessage\n",
    "chat = ChatOpenAI(model=\"gpt-3.5-turbo\", temperature=0.5)\n",
    "messages = [SystemMessage(content=\"\"\"You are a basketball player\"\"\"),\n",
    "            HumanMessage(content=\"\"\"Give me the top 10 NBA player (it can be current player or retired player)\"\"\")]\n",
    "response = chat.invoke(input=messages)\n",
    "print(response)\n",
    "print(response.content)"
   ]
  },
  {
   "cell_type": "markdown",
   "metadata": {},
   "source": [
    "# stream\n"
   ]
  },
  {
   "cell_type": "code",
   "execution_count": 21,
   "metadata": {},
   "outputs": [
    {
     "name": "stdout",
     "output_type": "stream",
     "text": [
      "Sure! Here is a list of the top 10 NBA players of all time, in no particular order:\n",
      "\n",
      "1. Michael Jordan\n",
      "2. LeBron James\n",
      "3. Kareem Abdul-Jabbar\n",
      "4. Magic Johnson\n",
      "5. Larry Bird\n",
      "6. Shaquille O'Neal\n",
      "7. Kobe Bryant\n",
      "8. Tim Duncan\n",
      "9. Hakeem Olajuwon\n",
      "10. Bill Russell\n",
      "\n",
      "These players have left a significant impact on the game of basketball and are considered some of the greatest to ever play in the NBA."
     ]
    }
   ],
   "source": [
    "for chunk in chat.stream(messages):\n",
    "    print(chunk.content, end=\"\", flush=True)"
   ]
  },
  {
   "cell_type": "markdown",
   "metadata": {},
   "source": [
    "# batch\n"
   ]
  },
  {
   "cell_type": "code",
   "execution_count": 22,
   "metadata": {},
   "outputs": [
    {
     "name": "stdout",
     "output_type": "stream",
     "text": [
      "[AIMessage(content=\"Sure! Here is a list of the top 10 NBA players of all time, in no particular order:\\n\\n1. Michael Jordan\\n2. LeBron James\\n3. Magic Johnson\\n4. Larry Bird\\n5. Kareem Abdul-Jabbar\\n6. Kobe Bryant\\n7. Shaquille O'Neal\\n8. Tim Duncan\\n9. Wilt Chamberlain\\n10. Bill Russell\\n\\nThese players are considered some of the greatest in NBA history for their skills, accomplishments, and impact on the game.\", response_metadata={'token_usage': {'completion_tokens': 105, 'prompt_tokens': 34, 'total_tokens': 139}, 'model_name': 'gpt-3.5-turbo-0125', 'system_fingerprint': None, 'finish_reason': 'stop', 'logprobs': None}, id='run-91da9d6a-bb4d-4cd1-a171-da62ca89216b-0', usage_metadata={'input_tokens': 34, 'output_tokens': 105, 'total_tokens': 139}), AIMessage(content=\"Taking someone's life is a serious matter and should be a last resort in any situation. While the instinct to protect a loved one, such as a mother, is understandable, it is important to consider all other possible options before resorting to violence. It is also important to consider the legal implications of such actions and to seek help from authorities or professionals in handling the situation. Ultimately, the morality and legality of the action would depend on the specific circumstances and the laws of the jurisdiction in which it occurred.\", response_metadata={'token_usage': {'completion_tokens': 101, 'prompt_tokens': 32, 'total_tokens': 133}, 'model_name': 'gpt-3.5-turbo-0125', 'system_fingerprint': None, 'finish_reason': 'stop', 'logprobs': None}, id='run-cd7af38a-568f-4744-987b-ef10d9fd1beb-0', usage_metadata={'input_tokens': 32, 'output_tokens': 101, 'total_tokens': 133})]\n"
     ]
    }
   ],
   "source": [
    "# 2x lists of messages, which is same as [messages1, messages2]\n",
    "messages1 = messages\n",
    "messages2 = [SystemMessage(content=\"You are a son\"),\n",
    "             HumanMessage(content=\"If somebody kill a person to protect his mother, is he/her action is correct?\")]\n",
    "synchronous_llm_result = chat.batch([messages1, messages2])\n",
    "print(synchronous_llm_result)"
   ]
  },
  {
   "cell_type": "markdown",
   "metadata": {},
   "source": [
    "Non-Async Methods (without a):\n",
    "\n",
    "- stream: Streams back chunks of the response synchronously.\n",
    "- invoke: Calls the chain on a single input synchronously.\n",
    "- batch: Calls the chain on a list of inputs synchronously.\n",
    "\n",
    "Async Methods (with a prefix):\n",
    "\n",
    "- astream: Streams back chunks of the response asynchronously, allowing other tasks to run while waiting for data.\n",
    "- ainvoke: Calls the chain on a single input asynchronously, which is useful for handling tasks concurrently without blocking the execution of other code.\n",
    "- abatch: Calls the chain on a list of inputs asynchronously, enabling the handling of multiple inputs concurrently.\n"
   ]
  },
  {
   "cell_type": "markdown",
   "metadata": {},
   "source": [
    "# config\n"
   ]
  },
  {
   "cell_type": "markdown",
   "metadata": {},
   "source": [
    "max*concurrent*: 2 (4.8s)\n"
   ]
  },
  {
   "cell_type": "code",
   "execution_count": 24,
   "metadata": {},
   "outputs": [
    {
     "name": "stdout",
     "output_type": "stream",
     "text": [
      "[AIMessage(content=\"Sure! Here is a list of the top 10 NBA players of all time, in no particular order:\\n\\n1. Michael Jordan\\n2. LeBron James\\n3. Kareem Abdul-Jabbar\\n4. Magic Johnson\\n5. Larry Bird\\n6. Shaquille O'Neal\\n7. Kobe Bryant\\n8. Tim Duncan\\n9. Hakeem Olajuwon\\n10. Bill Russell\\n\\nThese players have left a lasting impact on the game of basketball and are considered some of the greatest to ever play in the NBA.\", response_metadata={'token_usage': {'completion_tokens': 111, 'prompt_tokens': 34, 'total_tokens': 145}, 'model_name': 'gpt-3.5-turbo-0125', 'system_fingerprint': None, 'finish_reason': 'stop', 'logprobs': None}, id='run-de70811f-c6a7-408b-8e3f-bfd093262262-0', usage_metadata={'input_tokens': 34, 'output_tokens': 111, 'total_tokens': 145}), AIMessage(content=\"Taking someone's life is a serious matter and should only be done in self-defense or in defense of others when there is no other option to protect oneself or others from harm. The situation you described, where someone kills to protect their mother, would be considered justifiable in some legal systems under the concept of self-defense. However, it is important to remember that every situation is different and should be evaluated on a case-by-case basis. It is always best to seek help from authorities or professionals in such situations to ensure that the appropriate actions are taken.\", response_metadata={'token_usage': {'completion_tokens': 110, 'prompt_tokens': 32, 'total_tokens': 142}, 'model_name': 'gpt-3.5-turbo-0125', 'system_fingerprint': None, 'finish_reason': 'stop', 'logprobs': None}, id='run-4dc20e7f-dd0b-41c7-aabb-47989b48437b-0', usage_metadata={'input_tokens': 32, 'output_tokens': 110, 'total_tokens': 142}), AIMessage(content='Asians have diverse and varied culinary preferences, as the continent is home to a wide range of cultures and cuisines. Some popular Asian dishes include sushi and sashimi from Japan, dim sum from China, pho from Vietnam, curry from India, bibimbap from Korea, and pad thai from Thailand. Rice and noodles are staple foods in many Asian countries, and dishes often feature a balance of flavors such as sweet, sour, salty, and spicy. Additionally, street food is a big part of Asian food culture, with vendors selling everything from dumplings to skewers to bubble tea.', response_metadata={'token_usage': {'completion_tokens': 120, 'prompt_tokens': 20, 'total_tokens': 140}, 'model_name': 'gpt-3.5-turbo-0125', 'system_fingerprint': None, 'finish_reason': 'stop', 'logprobs': None}, id='run-95992138-c9ff-4dae-81fe-274f9c8f80f1-0', usage_metadata={'input_tokens': 20, 'output_tokens': 120, 'total_tokens': 140})]\n"
     ]
    }
   ],
   "source": [
    "from langchain_core.runnables.config import RunnableConfig\n",
    "\n",
    "config = RunnableConfig(max_concurrency=2)\n",
    "messages3 = [SystemMessage(content=\"You are a asian\"),\n",
    "             HumanMessage(content=\"What asian like to eat\")]\n",
    "results = chat.batch([messages1, messages2, messages3], config=config)\n",
    "print(results)"
   ]
  },
  {
   "cell_type": "markdown",
   "metadata": {},
   "source": [
    "max*concurrent*: 3 (2.0s)\n"
   ]
  },
  {
   "cell_type": "code",
   "execution_count": 32,
   "metadata": {},
   "outputs": [
    {
     "name": "stdout",
     "output_type": "stream",
     "text": [
      "[AIMessage(content=\"Sure! Here are 10 of the greatest NBA players of all time, in no particular order:\\n\\n1. Michael Jordan\\n2. LeBron James\\n3. Kobe Bryant\\n4. Magic Johnson\\n5. Larry Bird\\n6. Shaquille O'Neal\\n7. Tim Duncan\\n8. Kareem Abdul-Jabbar\\n9. Bill Russell\\n10. Wilt Chamberlain\\n\\nThese players have left a lasting impact on the game of basketball and are considered some of the best to ever play in the NBA.\", response_metadata={'token_usage': {'completion_tokens': 106, 'prompt_tokens': 34, 'total_tokens': 140}, 'model_name': 'gpt-3.5-turbo-0125', 'system_fingerprint': None, 'finish_reason': 'stop', 'logprobs': None}, id='run-4fd926b4-40c1-43d7-a538-de31039f10a7-0', usage_metadata={'input_tokens': 34, 'output_tokens': 106, 'total_tokens': 140}), AIMessage(content='Taking a life is a serious matter and should always be a last resort. In the scenario you mentioned, if someone kills another person to protect their mother from imminent harm, it could be seen as a justifiable act of self-defense. However, it is important to consider the circumstances and the laws in place regarding self-defense in that particular jurisdiction. It is always best to try and resolve conflicts peacefully and seek help from authorities if possible.', response_metadata={'token_usage': {'completion_tokens': 87, 'prompt_tokens': 32, 'total_tokens': 119}, 'model_name': 'gpt-3.5-turbo-0125', 'system_fingerprint': None, 'finish_reason': 'stop', 'logprobs': None}, id='run-7b65ae9f-83be-4963-9442-ec326f3c8663-0', usage_metadata={'input_tokens': 32, 'output_tokens': 87, 'total_tokens': 119}), AIMessage(content='Asians have a diverse range of cuisines and food preferences depending on the country and region. Some popular Asian dishes include sushi and ramen from Japan, dim sum and Peking duck from China, pho and banh mi from Vietnam, kimchi and bibimbap from Korea, and curry and biryani from India. Additionally, Asian cuisine often features a variety of noodles, rice dishes, stir-fries, and seafood. Each country in Asia has its own unique culinary traditions and flavors that contribute to the rich tapestry of Asian cuisine.', response_metadata={'token_usage': {'completion_tokens': 111, 'prompt_tokens': 20, 'total_tokens': 131}, 'model_name': 'gpt-3.5-turbo-0125', 'system_fingerprint': None, 'finish_reason': 'stop', 'logprobs': None}, id='run-fac55e01-87bb-44cf-bf70-d2d9eaa1a03a-0', usage_metadata={'input_tokens': 20, 'output_tokens': 111, 'total_tokens': 131})]\n"
     ]
    }
   ],
   "source": [
    "from langchain_core.runnables.config import RunnableConfig\n",
    "\n",
    "config = RunnableConfig(max_concurrency=3)\n",
    "messages3 = [SystemMessage(content=\"You are a asian\"),\n",
    "             HumanMessage(content=\"What asian like to eat\")]\n",
    "results = chat.batch([messages1, messages2, messages3], config=config)\n",
    "print(results)"
   ]
  },
  {
   "cell_type": "markdown",
   "metadata": {},
   "source": [
    "# LCEL, SystemMessagePromptTemplate, ChatPromptTemplate\n"
   ]
  },
  {
   "cell_type": "code",
   "execution_count": 2,
   "metadata": {},
   "outputs": [
    {
     "name": "stdout",
     "output_type": "stream",
     "text": [
      "1. MediAI\n",
      "2. HealTech\n",
      "3. CareBot\n",
      "4. AI Medix\n",
      "5. PulseAI\n"
     ]
    }
   ],
   "source": [
    "from langchain_openai import ChatOpenAI\n",
    "from langchain_core.prompts import SystemMessagePromptTemplate, ChatPromptTemplate\n",
    "\n",
    "model = ChatOpenAI(model=\"gpt-3.5-turbo\", temperature=0.0)\n",
    "\n",
    "template = \"\"\"\n",
    "You are a creative consultant brainstorming names for businesses.\n",
    "You must follow the following principles:\n",
    "{principles}\n",
    "Please generate a numerical list of five catchy names for a start-up in the\n",
    "{industry} industry that deals with {context}?\n",
    "Here is an example of the format:\n",
    "1. Name1\n",
    "2. Name2\n",
    "3. Name3\n",
    "4. Name4\n",
    "5. Name5\n",
    "\n",
    "\"\"\"\n",
    "\n",
    "system_prompt = SystemMessagePromptTemplate.from_template(template)\n",
    "chat_prompt = ChatPromptTemplate.from_messages([system_prompt])\n",
    "\n",
    "chain = chat_prompt | model\n",
    "\n",
    "response = chain.invoke({\n",
    "    \"principles\": '''1. Each name should be short and easy to\n",
    " remember. 2. Each name should be easy to pronounce.\n",
    " 3. Each name should be unique and not already taken by another company.''',\n",
    "    \"industry\": \"Medical\",\n",
    "    \"context\": \"creating AI solution to help patient\"\n",
    "})\n",
    "\n",
    "print(response.content)"
   ]
  },
  {
   "cell_type": "markdown",
   "metadata": {},
   "source": [
    "# PromptTemplate\n"
   ]
  },
  {
   "cell_type": "code",
   "execution_count": 34,
   "metadata": {},
   "outputs": [
    {
     "data": {
      "text/plain": [
       "AIMessage(content='我是一个乐于助人的助手，可以将英语翻译成中文。', response_metadata={'token_usage': {'completion_tokens': 27, 'prompt_tokens': 19, 'total_tokens': 46}, 'model_name': 'gpt-3.5-turbo-0125', 'system_fingerprint': None, 'finish_reason': 'stop', 'logprobs': None}, id='run-8eb3ed37-3e71-4639-8bbb-44bd80414175-0', usage_metadata={'input_tokens': 19, 'output_tokens': 27, 'total_tokens': 46})"
      ]
     },
     "execution_count": 34,
     "metadata": {},
     "output_type": "execute_result"
    }
   ],
   "source": [
    "from langchain_core.prompts import PromptTemplate\n",
    "from langchain.prompts.chat import SystemMessagePromptTemplate\n",
    "from langchain_openai.chat_models import ChatOpenAI\n",
    "prompt = PromptTemplate(\n",
    "    template='''You are a helpful assistant that translates {input_language} to\n",
    "{output_language}.''',\n",
    "    input_variables=[\"input_language\", \"output_language\"],\n",
    ")\n",
    "system_message_prompt = SystemMessagePromptTemplate(prompt=prompt)\n",
    "chat = ChatOpenAI()\n",
    "chat.invoke(system_message_prompt.format_messages(\n",
    "    input_language=\"English\", output_language=\"Chinese\"))"
   ]
  },
  {
   "cell_type": "markdown",
   "metadata": {},
   "source": [
    "# Output Parser\n"
   ]
  },
  {
   "cell_type": "code",
   "execution_count": 35,
   "metadata": {},
   "outputs": [],
   "source": [
    "from langchain_core.prompts.chat import (\n",
    "    ChatPromptTemplate,\n",
    "    SystemMessagePromptTemplate,\n",
    ")\n",
    "from langchain_openai.chat_models import ChatOpenAI\n",
    "from langchain.output_parsers import PydanticOutputParser\n",
    "from pydantic.v1 import BaseModel, Field\n",
    "from typing import List\n",
    "\n",
    "temperature = 0.0\n",
    "\n",
    "\n",
    "class BusinessName(BaseModel):\n",
    "    name: str = Field(description=\"The name of the business\")\n",
    "    rating_score: float = Field(\n",
    "        description='''The rating score of the business. 0 is the worst, 10 is the best.''')\n",
    "\n",
    "\n",
    "class BusinessNames(BaseModel):\n",
    "    names: List[BusinessName] = Field(\n",
    "        description='''A list of busines names''')"
   ]
  },
  {
   "cell_type": "code",
   "execution_count": 36,
   "metadata": {},
   "outputs": [
    {
     "name": "stdout",
     "output_type": "stream",
     "text": [
      "names=[BusinessName(name='DataWiz', rating_score=8.5), BusinessName(name='AnalyzeX', rating_score=9.0), BusinessName(name='MindStat', rating_score=7.8), BusinessName(name='InsightIQ', rating_score=9.2), BusinessName(name='InfoPulse', rating_score=8.0)]\n"
     ]
    }
   ],
   "source": [
    "# Set up a parser + inject instructions into the prompt template:\n",
    "parser = PydanticOutputParser(pydantic_object=BusinessNames)\n",
    "\n",
    "principles = \"\"\"\n",
    "- The name must be easy to remember.\n",
    "- Use the {industry} industry and Company context to create an effective name.\n",
    "- The name must be easy to pronounce.\n",
    "- You must only return the name without any other text or characters.\n",
    "- Avoid returning full stops, \\n, or any other characters.\n",
    "- The maximum length of the name must be 10 characters.\n",
    "\"\"\"\n",
    "\n",
    "# Chat Model Output Parser:\n",
    "model = ChatOpenAI()\n",
    "\n",
    "template = \"\"\"Generate five business names for a new start-up company in the\n",
    "            {industry} industry.\n",
    "            You must follow the following principles: {principles}\n",
    "            {format_instructions}\n",
    "            \"\"\"\n",
    "system_message_prompt = SystemMessagePromptTemplate.from_template(template)\n",
    "chat_prompt = ChatPromptTemplate.from_messages([system_message_prompt])\n",
    "\n",
    "# Creating the LCEL chain:\n",
    "prompt_and_model = chat_prompt | model\n",
    "result = prompt_and_model.invoke(\n",
    "    {\n",
    "        \"principles\": principles,\n",
    "        \"industry\": \"Data Science\",\n",
    "        \"format_instructions\": parser.get_format_instructions(),\n",
    "    }\n",
    ")\n",
    "\n",
    "# The output parser, parses the LLM response into a Pydantic object:\n",
    "print(parser.parse(result.content))"
   ]
  },
  {
   "cell_type": "code",
   "execution_count": 37,
   "metadata": {},
   "outputs": [
    {
     "name": "stdout",
     "output_type": "stream",
     "text": [
      "names=[BusinessName(name='DataPulse', rating_score=8.0), BusinessName(name='ByteWave', rating_score=7.0), BusinessName(name='InfoSync', rating_score=7.0), BusinessName(name='DataMeld', rating_score=6.0), BusinessName(name='AnalyzeX', rating_score=8.0)]\n"
     ]
    }
   ],
   "source": [
    "parser = PydanticOutputParser(pydantic_object=BusinessNames)\n",
    "chain = chat_prompt | model | parser\n",
    "result = chain.invoke(\n",
    "    {\n",
    "        \"principles\": principles,\n",
    "        \"industry\": \"Data Science\",\n",
    "        \"format_instructions\": parser.get_format_instructions(),\n",
    "    }\n",
    ")\n",
    "print(result)"
   ]
  },
  {
   "cell_type": "markdown",
   "metadata": {},
   "source": [
    "# Setting Mistral API Key\n"
   ]
  },
  {
   "cell_type": "code",
   "execution_count": 128,
   "metadata": {},
   "outputs": [],
   "source": [
    "from dotenv import load_dotenv\n",
    "import os\n",
    "load_dotenv()\n",
    "mistral_api_key = os.environ[\"MISTRAL_API_KEY\"]"
   ]
  },
  {
   "cell_type": "code",
   "execution_count": 129,
   "metadata": {},
   "outputs": [
    {
     "data": {
      "text/html": [
       "<div>\n",
       "<style scoped>\n",
       "    .dataframe tbody tr th:only-of-type {\n",
       "        vertical-align: middle;\n",
       "    }\n",
       "\n",
       "    .dataframe tbody tr th {\n",
       "        vertical-align: top;\n",
       "    }\n",
       "\n",
       "    .dataframe thead th {\n",
       "        text-align: right;\n",
       "    }\n",
       "</style>\n",
       "<table border=\"1\" class=\"dataframe\">\n",
       "  <thead>\n",
       "    <tr style=\"text-align: right;\">\n",
       "      <th></th>\n",
       "      <th>Transaction Description</th>\n",
       "      <th>transaction_type</th>\n",
       "      <th>transaction_category</th>\n",
       "    </tr>\n",
       "  </thead>\n",
       "  <tbody>\n",
       "    <tr>\n",
       "      <th>0</th>\n",
       "      <td>cash deposit at local branch</td>\n",
       "      <td>Deposit</td>\n",
       "      <td>Other</td>\n",
       "    </tr>\n",
       "    <tr>\n",
       "      <th>1</th>\n",
       "      <td>cash deposit at local branch</td>\n",
       "      <td>Deposit</td>\n",
       "      <td>Other</td>\n",
       "    </tr>\n",
       "    <tr>\n",
       "      <th>2</th>\n",
       "      <td>withdrew money for rent payment</td>\n",
       "      <td>Withdrawal</td>\n",
       "      <td>Rent</td>\n",
       "    </tr>\n",
       "    <tr>\n",
       "      <th>3</th>\n",
       "      <td>withdrew cash for weekend expenses</td>\n",
       "      <td>Withdrawal</td>\n",
       "      <td>Other</td>\n",
       "    </tr>\n",
       "    <tr>\n",
       "      <th>4</th>\n",
       "      <td>purchased books from the bookstore</td>\n",
       "      <td>Purchase</td>\n",
       "      <td>Other</td>\n",
       "    </tr>\n",
       "    <tr>\n",
       "      <th>5</th>\n",
       "      <td>tax refund deposit</td>\n",
       "      <td>Deposit</td>\n",
       "      <td>Other</td>\n",
       "    </tr>\n",
       "    <tr>\n",
       "      <th>6</th>\n",
       "      <td>refund from clothing store</td>\n",
       "      <td>Refund</td>\n",
       "      <td>Other</td>\n",
       "    </tr>\n",
       "    <tr>\n",
       "      <th>7</th>\n",
       "      <td>withdrew money for rent payment</td>\n",
       "      <td>Withdrawal</td>\n",
       "      <td>Rent</td>\n",
       "    </tr>\n",
       "    <tr>\n",
       "      <th>8</th>\n",
       "      <td>insurance claim refund</td>\n",
       "      <td>Refund</td>\n",
       "      <td>Other</td>\n",
       "    </tr>\n",
       "    <tr>\n",
       "      <th>9</th>\n",
       "      <td>paid subscription service fee</td>\n",
       "      <td>Bill Payment</td>\n",
       "      <td>Other</td>\n",
       "    </tr>\n",
       "  </tbody>\n",
       "</table>\n",
       "</div>"
      ],
      "text/plain": [
       "              Transaction Description transaction_type transaction_category\n",
       "0        cash deposit at local branch          Deposit                Other\n",
       "1        cash deposit at local branch          Deposit                Other\n",
       "2     withdrew money for rent payment       Withdrawal                 Rent\n",
       "3  withdrew cash for weekend expenses       Withdrawal                Other\n",
       "4  purchased books from the bookstore         Purchase                Other\n",
       "5                  tax refund deposit          Deposit                Other\n",
       "6          refund from clothing store           Refund                Other\n",
       "7     withdrew money for rent payment       Withdrawal                 Rent\n",
       "8              insurance claim refund           Refund                Other\n",
       "9       paid subscription service fee     Bill Payment                Other"
      ]
     },
     "execution_count": 129,
     "metadata": {},
     "output_type": "execute_result"
    }
   ],
   "source": [
    "import pandas as pd\n",
    "from tqdm import tqdm\n",
    "import requests\n",
    "import io\n",
    "\n",
    "# Dataset URL:\n",
    "url = \"https://storage.googleapis.com/oreilly-content/transactions_with_enriched_data.csv\"\n",
    "\n",
    "# Download the file from the URL:\n",
    "downloaded_file = requests.get(url)\n",
    "\n",
    "# Load the transactions dataset:\n",
    "df = pd.read_csv(io.StringIO(downloaded_file.text))\n",
    "df.head(n=10)"
   ]
  },
  {
   "cell_type": "code",
   "execution_count": 130,
   "metadata": {},
   "outputs": [],
   "source": [
    "from langchain_mistralai.chat_models import ChatMistralAI\n",
    "from langchain.output_parsers import PydanticOutputParser\n",
    "from langchain_core.prompts import ChatPromptTemplate\n",
    "from pydantic.v1 import BaseModel\n",
    "from typing import Literal, Union\n",
    "from langchain_core.output_parsers import StrOutputParser\n",
    "# 1. Define the model:\n",
    "model = ChatMistralAI(model=\"open-mixtral-8x7b\",\n",
    "                      mistral_api_key=mistral_api_key)"
   ]
  },
  {
   "cell_type": "code",
   "execution_count": 131,
   "metadata": {},
   "outputs": [],
   "source": [
    "# 2. Define the prompt:\n",
    "system_prompt = \"\"\"You are are an expert at analyzing\n",
    "bank transactions, you will be categorizing a single\n",
    "transaction.\n",
    "Always return a transaction type and category:\n",
    "do not return None\n",
    "and do not allow any other value is not inside the value for enum transaction type\n",
    "and for transaction category, if you have the value is not inside the enum transaction category, put Other, For Example Electronic is not in the enum, so put Other.\n",
    "Format Instructions:\n",
    "{format_instructions}\"\"\"\n",
    "\n",
    "user_prompt = \"\"\"Transaction Text:\n",
    "{transaction}\"\"\"\n",
    "\n",
    "prompt = ChatPromptTemplate.from_messages(\n",
    "    [\n",
    "        (\n",
    "            \"system\",\n",
    "            system_prompt,\n",
    "        ),\n",
    "        (\n",
    "            \"user\",\n",
    "            user_prompt,\n",
    "        ),\n",
    "    ]\n",
    ")"
   ]
  },
  {
   "cell_type": "code",
   "execution_count": 132,
   "metadata": {},
   "outputs": [],
   "source": [
    "# 3. Define the pydantic model:\n",
    "class EnrichedTransactionInformation(BaseModel):\n",
    "    transaction_type: Union[\n",
    "        Literal[\"Purchase\", \"Withdrawal\", \"Deposit\",\n",
    "                \"Bill Payment\", \"Refund\"], None\n",
    "    ]\n",
    "    transaction_category: Union[\n",
    "        Literal[\"Food\", \"Entertainment\", \"Transport\",\n",
    "                \"Utilities\", \"Rent\", \"Other\"],\n",
    "        None,\n",
    "    ]"
   ]
  },
  {
   "cell_type": "code",
   "execution_count": 133,
   "metadata": {},
   "outputs": [],
   "source": [
    "# 4. Define the output parser:\n",
    "output_parser = PydanticOutputParser(\n",
    "    pydantic_object=EnrichedTransactionInformation)"
   ]
  },
  {
   "cell_type": "code",
   "execution_count": 134,
   "metadata": {},
   "outputs": [],
   "source": [
    "# 5. Define a function to try to fix and remove the backslashes:\n",
    "def remove_back_slashes(string):\n",
    "    # double slash to escape the slash\n",
    "    cleaned_string = string.replace(\"\\\\\", \"\")\n",
    "    return cleaned_string"
   ]
  },
  {
   "cell_type": "code",
   "execution_count": 135,
   "metadata": {},
   "outputs": [
    {
     "name": "stdout",
     "output_type": "stream",
     "text": [
      "transaction_type='Deposit' transaction_category='Other'\n"
     ]
    }
   ],
   "source": [
    "# 6. Create an LCEL chain that fixes the formatting:\n",
    "chain = prompt | model | StrOutputParser() \\\n",
    "    | remove_back_slashes | output_parser\n",
    "transaction = df.iloc[0][\"Transaction Description\"]\n",
    "result = chain.invoke(\n",
    "    {\n",
    "        \"transaction\": transaction,\n",
    "        \"format_instructions\":\n",
    "        output_parser.get_format_instructions(),\n",
    "    }\n",
    ")\n",
    "print(result)"
   ]
  },
  {
   "cell_type": "code",
   "execution_count": 136,
   "metadata": {},
   "outputs": [
    {
     "name": "stderr",
     "output_type": "stream",
     "text": [
      "100%|██████████| 20/20 [01:18<00:00,  3.91s/it]"
     ]
    },
    {
     "name": "stdout",
     "output_type": "stream",
     "text": [
      "[EnrichedTransactionInformation(transaction_type='Deposit', transaction_category='Other'), EnrichedTransactionInformation(transaction_type='Deposit', transaction_category='Other'), EnrichedTransactionInformation(transaction_type='Withdrawal', transaction_category='Rent'), EnrichedTransactionInformation(transaction_type='Withdrawal', transaction_category='Other'), EnrichedTransactionInformation(transaction_type='Purchase', transaction_category='Other'), EnrichedTransactionInformation(transaction_type='Deposit', transaction_category='Other'), EnrichedTransactionInformation(transaction_type='Refund', transaction_category='Other'), EnrichedTransactionInformation(transaction_type='Withdrawal', transaction_category='Rent'), EnrichedTransactionInformation(transaction_type='Refund', transaction_category='Other'), EnrichedTransactionInformation(transaction_type='Bill Payment', transaction_category='Other'), EnrichedTransactionInformation(transaction_type='Purchase', transaction_category='Food'), EnrichedTransactionInformation(transaction_type='Refund', transaction_category='Other'), EnrichedTransactionInformation(transaction_type='Withdrawal', transaction_category='Rent'), EnrichedTransactionInformation(transaction_type='Deposit', transaction_category='Other'), EnrichedTransactionInformation(transaction_type='Purchase', transaction_category='Entertainment'), EnrichedTransactionInformation(transaction_type='Purchase', transaction_category='Other'), EnrichedTransactionInformation(transaction_type='Bill Payment', transaction_category='Utilities'), EnrichedTransactionInformation(transaction_type='Withdrawal', transaction_category='Other'), EnrichedTransactionInformation(transaction_type='Withdrawal', transaction_category='Other'), EnrichedTransactionInformation(transaction_type=None, transaction_category=None)]\n"
     ]
    },
    {
     "name": "stderr",
     "output_type": "stream",
     "text": [
      "\n"
     ]
    }
   ],
   "source": [
    "# 7. Invoke the chain for the whole dataset:\n",
    "import time\n",
    "results = []\n",
    "for i, row in tqdm(df.iterrows(), total=len(df)):\n",
    "    transaction = row[\"Transaction Description\"]\n",
    "    time.sleep(3)  # to avoid call too frequently, block by mistral ai\n",
    "    try:\n",
    "\n",
    "        result = chain.invoke(\n",
    "            {\n",
    "                \"transaction\": transaction,\n",
    "                \"format_instructions\":\n",
    "                output_parser.get_format_instructions(),\n",
    "            }\n",
    "        )\n",
    "    except:\n",
    "        result = EnrichedTransactionInformation(\n",
    "            transaction_type=None,\n",
    "            transaction_category=None\n",
    "        )\n",
    "    results.append(result)\n",
    "print(results)"
   ]
  },
  {
   "cell_type": "code",
   "execution_count": 137,
   "metadata": {},
   "outputs": [
    {
     "data": {
      "text/html": [
       "<div>\n",
       "<style scoped>\n",
       "    .dataframe tbody tr th:only-of-type {\n",
       "        vertical-align: middle;\n",
       "    }\n",
       "\n",
       "    .dataframe tbody tr th {\n",
       "        vertical-align: top;\n",
       "    }\n",
       "\n",
       "    .dataframe thead th {\n",
       "        text-align: right;\n",
       "    }\n",
       "</style>\n",
       "<table border=\"1\" class=\"dataframe\">\n",
       "  <thead>\n",
       "    <tr style=\"text-align: right;\">\n",
       "      <th></th>\n",
       "      <th>Transaction Description</th>\n",
       "      <th>transaction_type</th>\n",
       "      <th>transaction_category</th>\n",
       "      <th>mistral_transaction_type</th>\n",
       "      <th>mistral_transaction_category</th>\n",
       "    </tr>\n",
       "  </thead>\n",
       "  <tbody>\n",
       "    <tr>\n",
       "      <th>0</th>\n",
       "      <td>cash deposit at local branch</td>\n",
       "      <td>Deposit</td>\n",
       "      <td>Other</td>\n",
       "      <td>Deposit</td>\n",
       "      <td>Other</td>\n",
       "    </tr>\n",
       "    <tr>\n",
       "      <th>1</th>\n",
       "      <td>cash deposit at local branch</td>\n",
       "      <td>Deposit</td>\n",
       "      <td>Other</td>\n",
       "      <td>Deposit</td>\n",
       "      <td>Other</td>\n",
       "    </tr>\n",
       "    <tr>\n",
       "      <th>2</th>\n",
       "      <td>withdrew money for rent payment</td>\n",
       "      <td>Withdrawal</td>\n",
       "      <td>Rent</td>\n",
       "      <td>Withdrawal</td>\n",
       "      <td>Rent</td>\n",
       "    </tr>\n",
       "    <tr>\n",
       "      <th>3</th>\n",
       "      <td>withdrew cash for weekend expenses</td>\n",
       "      <td>Withdrawal</td>\n",
       "      <td>Other</td>\n",
       "      <td>Withdrawal</td>\n",
       "      <td>Other</td>\n",
       "    </tr>\n",
       "    <tr>\n",
       "      <th>4</th>\n",
       "      <td>purchased books from the bookstore</td>\n",
       "      <td>Purchase</td>\n",
       "      <td>Other</td>\n",
       "      <td>Purchase</td>\n",
       "      <td>Other</td>\n",
       "    </tr>\n",
       "    <tr>\n",
       "      <th>5</th>\n",
       "      <td>tax refund deposit</td>\n",
       "      <td>Deposit</td>\n",
       "      <td>Other</td>\n",
       "      <td>Deposit</td>\n",
       "      <td>Other</td>\n",
       "    </tr>\n",
       "    <tr>\n",
       "      <th>6</th>\n",
       "      <td>refund from clothing store</td>\n",
       "      <td>Refund</td>\n",
       "      <td>Other</td>\n",
       "      <td>Refund</td>\n",
       "      <td>Other</td>\n",
       "    </tr>\n",
       "    <tr>\n",
       "      <th>7</th>\n",
       "      <td>withdrew money for rent payment</td>\n",
       "      <td>Withdrawal</td>\n",
       "      <td>Rent</td>\n",
       "      <td>Withdrawal</td>\n",
       "      <td>Rent</td>\n",
       "    </tr>\n",
       "    <tr>\n",
       "      <th>8</th>\n",
       "      <td>insurance claim refund</td>\n",
       "      <td>Refund</td>\n",
       "      <td>Other</td>\n",
       "      <td>Refund</td>\n",
       "      <td>Other</td>\n",
       "    </tr>\n",
       "    <tr>\n",
       "      <th>9</th>\n",
       "      <td>paid subscription service fee</td>\n",
       "      <td>Bill Payment</td>\n",
       "      <td>Other</td>\n",
       "      <td>Bill Payment</td>\n",
       "      <td>Other</td>\n",
       "    </tr>\n",
       "    <tr>\n",
       "      <th>10</th>\n",
       "      <td>purchased groceries at the local market</td>\n",
       "      <td>Purchase</td>\n",
       "      <td>Food</td>\n",
       "      <td>Purchase</td>\n",
       "      <td>Food</td>\n",
       "    </tr>\n",
       "    <tr>\n",
       "      <th>11</th>\n",
       "      <td>refund for returned electronics</td>\n",
       "      <td>Refund</td>\n",
       "      <td>Other</td>\n",
       "      <td>Refund</td>\n",
       "      <td>Other</td>\n",
       "    </tr>\n",
       "    <tr>\n",
       "      <th>12</th>\n",
       "      <td>withdrew money for rent payment</td>\n",
       "      <td>Withdrawal</td>\n",
       "      <td>Rent</td>\n",
       "      <td>Withdrawal</td>\n",
       "      <td>Rent</td>\n",
       "    </tr>\n",
       "    <tr>\n",
       "      <th>13</th>\n",
       "      <td>deposited gift money</td>\n",
       "      <td>Deposit</td>\n",
       "      <td>Other</td>\n",
       "      <td>Deposit</td>\n",
       "      <td>Other</td>\n",
       "    </tr>\n",
       "    <tr>\n",
       "      <th>14</th>\n",
       "      <td>paid for streaming service</td>\n",
       "      <td>Bill Payment</td>\n",
       "      <td>Entertainment</td>\n",
       "      <td>Purchase</td>\n",
       "      <td>Entertainment</td>\n",
       "    </tr>\n",
       "    <tr>\n",
       "      <th>15</th>\n",
       "      <td>bought a watch from the jewelry store</td>\n",
       "      <td>Purchase</td>\n",
       "      <td>Other</td>\n",
       "      <td>Purchase</td>\n",
       "      <td>Other</td>\n",
       "    </tr>\n",
       "    <tr>\n",
       "      <th>16</th>\n",
       "      <td>utility bill payment for electricity</td>\n",
       "      <td>Bill Payment</td>\n",
       "      <td>Utilities</td>\n",
       "      <td>Bill Payment</td>\n",
       "      <td>Utilities</td>\n",
       "    </tr>\n",
       "    <tr>\n",
       "      <th>17</th>\n",
       "      <td>withdrew cash for weekend expenses</td>\n",
       "      <td>Withdrawal</td>\n",
       "      <td>Other</td>\n",
       "      <td>Withdrawal</td>\n",
       "      <td>Other</td>\n",
       "    </tr>\n",
       "    <tr>\n",
       "      <th>18</th>\n",
       "      <td>withdrew cash for weekend expenses</td>\n",
       "      <td>Withdrawal</td>\n",
       "      <td>Other</td>\n",
       "      <td>Withdrawal</td>\n",
       "      <td>Other</td>\n",
       "    </tr>\n",
       "    <tr>\n",
       "      <th>19</th>\n",
       "      <td>bought a new smartphone from the electronics s...</td>\n",
       "      <td>Purchase</td>\n",
       "      <td>Other</td>\n",
       "      <td>None</td>\n",
       "      <td>None</td>\n",
       "    </tr>\n",
       "  </tbody>\n",
       "</table>\n",
       "</div>"
      ],
      "text/plain": [
       "                              Transaction Description transaction_type  \\\n",
       "0                        cash deposit at local branch          Deposit   \n",
       "1                        cash deposit at local branch          Deposit   \n",
       "2                     withdrew money for rent payment       Withdrawal   \n",
       "3                  withdrew cash for weekend expenses       Withdrawal   \n",
       "4                  purchased books from the bookstore         Purchase   \n",
       "5                                  tax refund deposit          Deposit   \n",
       "6                          refund from clothing store           Refund   \n",
       "7                     withdrew money for rent payment       Withdrawal   \n",
       "8                              insurance claim refund           Refund   \n",
       "9                       paid subscription service fee     Bill Payment   \n",
       "10            purchased groceries at the local market         Purchase   \n",
       "11                    refund for returned electronics           Refund   \n",
       "12                    withdrew money for rent payment       Withdrawal   \n",
       "13                               deposited gift money          Deposit   \n",
       "14                         paid for streaming service     Bill Payment   \n",
       "15              bought a watch from the jewelry store         Purchase   \n",
       "16               utility bill payment for electricity     Bill Payment   \n",
       "17                 withdrew cash for weekend expenses       Withdrawal   \n",
       "18                 withdrew cash for weekend expenses       Withdrawal   \n",
       "19  bought a new smartphone from the electronics s...         Purchase   \n",
       "\n",
       "   transaction_category mistral_transaction_type mistral_transaction_category  \n",
       "0                 Other                  Deposit                        Other  \n",
       "1                 Other                  Deposit                        Other  \n",
       "2                  Rent               Withdrawal                         Rent  \n",
       "3                 Other               Withdrawal                        Other  \n",
       "4                 Other                 Purchase                        Other  \n",
       "5                 Other                  Deposit                        Other  \n",
       "6                 Other                   Refund                        Other  \n",
       "7                  Rent               Withdrawal                         Rent  \n",
       "8                 Other                   Refund                        Other  \n",
       "9                 Other             Bill Payment                        Other  \n",
       "10                 Food                 Purchase                         Food  \n",
       "11                Other                   Refund                        Other  \n",
       "12                 Rent               Withdrawal                         Rent  \n",
       "13                Other                  Deposit                        Other  \n",
       "14        Entertainment                 Purchase                Entertainment  \n",
       "15                Other                 Purchase                        Other  \n",
       "16            Utilities             Bill Payment                    Utilities  \n",
       "17                Other               Withdrawal                        Other  \n",
       "18                Other               Withdrawal                        Other  \n",
       "19                Other                     None                         None  "
      ]
     },
     "execution_count": 137,
     "metadata": {},
     "output_type": "execute_result"
    }
   ],
   "source": [
    "# 8. Add the results to the dataframe, as columns transaction type and\n",
    "# transaction category:\n",
    "transaction_types = []\n",
    "transaction_categories = []\n",
    "for result in results:\n",
    "    transaction_types.append(result.transaction_type)\n",
    "    transaction_categories.append(\n",
    "        result.transaction_category)\n",
    "df[\"mistral_transaction_type\"] = transaction_types\n",
    "df[\"mistral_transaction_category\"] = transaction_categories\n",
    "df"
   ]
  },
  {
   "cell_type": "markdown",
   "metadata": {},
   "source": [
    "# GPT 3.5\n"
   ]
  },
  {
   "cell_type": "code",
   "execution_count": 138,
   "metadata": {},
   "outputs": [],
   "source": [
    "from langchain_openai import ChatOpenAI\n",
    "\n",
    "gpt_3_model = ChatOpenAI(model=\"gpt-3.5-turbo\", temperature=0)\n",
    "gpt_3_chain = prompt | gpt_3_model | output_parser"
   ]
  },
  {
   "cell_type": "code",
   "execution_count": 139,
   "metadata": {},
   "outputs": [
    {
     "name": "stderr",
     "output_type": "stream",
     "text": [
      "100%|██████████| 20/20 [00:17<00:00,  1.12it/s]"
     ]
    },
    {
     "name": "stdout",
     "output_type": "stream",
     "text": [
      "[EnrichedTransactionInformation(transaction_type='Deposit', transaction_category='Other'), EnrichedTransactionInformation(transaction_type='Deposit', transaction_category='Other'), EnrichedTransactionInformation(transaction_type='Withdrawal', transaction_category='Rent'), EnrichedTransactionInformation(transaction_type='Withdrawal', transaction_category='Entertainment'), EnrichedTransactionInformation(transaction_type='Purchase', transaction_category='Other'), EnrichedTransactionInformation(transaction_type='Deposit', transaction_category='Other'), EnrichedTransactionInformation(transaction_type='Refund', transaction_category='Other'), EnrichedTransactionInformation(transaction_type='Withdrawal', transaction_category='Rent'), EnrichedTransactionInformation(transaction_type='Refund', transaction_category='Other'), EnrichedTransactionInformation(transaction_type='Bill Payment', transaction_category='Other'), EnrichedTransactionInformation(transaction_type='Purchase', transaction_category='Food'), EnrichedTransactionInformation(transaction_type='Refund', transaction_category='Other'), EnrichedTransactionInformation(transaction_type='Withdrawal', transaction_category='Rent'), EnrichedTransactionInformation(transaction_type='Deposit', transaction_category='Other'), EnrichedTransactionInformation(transaction_type='Purchase', transaction_category='Entertainment'), EnrichedTransactionInformation(transaction_type='Purchase', transaction_category='Other'), EnrichedTransactionInformation(transaction_type='Bill Payment', transaction_category='Utilities'), EnrichedTransactionInformation(transaction_type='Withdrawal', transaction_category='Entertainment'), EnrichedTransactionInformation(transaction_type='Withdrawal', transaction_category='Entertainment'), EnrichedTransactionInformation(transaction_type='Purchase', transaction_category='Other')]\n"
     ]
    },
    {
     "name": "stderr",
     "output_type": "stream",
     "text": [
      "\n"
     ]
    }
   ],
   "source": [
    "results = []\n",
    "for i, row in tqdm(df.iterrows(), total=len(df)):\n",
    "    transaction = row[\"Transaction Description\"]\n",
    "    try:\n",
    "\n",
    "        result = gpt_3_chain.invoke(\n",
    "            {\n",
    "                \"transaction\": transaction,\n",
    "                \"format_instructions\":\n",
    "                output_parser.get_format_instructions(),\n",
    "            }\n",
    "        )\n",
    "    except:\n",
    "        result = EnrichedTransactionInformation(\n",
    "            transaction_type=None,\n",
    "            transaction_category=None\n",
    "        )\n",
    "    results.append(result)\n",
    "print(results)"
   ]
  },
  {
   "cell_type": "code",
   "execution_count": 140,
   "metadata": {},
   "outputs": [
    {
     "data": {
      "text/html": [
       "<div>\n",
       "<style scoped>\n",
       "    .dataframe tbody tr th:only-of-type {\n",
       "        vertical-align: middle;\n",
       "    }\n",
       "\n",
       "    .dataframe tbody tr th {\n",
       "        vertical-align: top;\n",
       "    }\n",
       "\n",
       "    .dataframe thead th {\n",
       "        text-align: right;\n",
       "    }\n",
       "</style>\n",
       "<table border=\"1\" class=\"dataframe\">\n",
       "  <thead>\n",
       "    <tr style=\"text-align: right;\">\n",
       "      <th></th>\n",
       "      <th>Transaction Description</th>\n",
       "      <th>transaction_type</th>\n",
       "      <th>transaction_category</th>\n",
       "      <th>mistral_transaction_type</th>\n",
       "      <th>mistral_transaction_category</th>\n",
       "      <th>gpt3.5_transaction_type</th>\n",
       "      <th>gpt3.5_transaction_category</th>\n",
       "    </tr>\n",
       "  </thead>\n",
       "  <tbody>\n",
       "    <tr>\n",
       "      <th>0</th>\n",
       "      <td>cash deposit at local branch</td>\n",
       "      <td>Deposit</td>\n",
       "      <td>Other</td>\n",
       "      <td>Deposit</td>\n",
       "      <td>Other</td>\n",
       "      <td>Deposit</td>\n",
       "      <td>Other</td>\n",
       "    </tr>\n",
       "    <tr>\n",
       "      <th>1</th>\n",
       "      <td>cash deposit at local branch</td>\n",
       "      <td>Deposit</td>\n",
       "      <td>Other</td>\n",
       "      <td>Deposit</td>\n",
       "      <td>Other</td>\n",
       "      <td>Deposit</td>\n",
       "      <td>Other</td>\n",
       "    </tr>\n",
       "    <tr>\n",
       "      <th>2</th>\n",
       "      <td>withdrew money for rent payment</td>\n",
       "      <td>Withdrawal</td>\n",
       "      <td>Rent</td>\n",
       "      <td>Withdrawal</td>\n",
       "      <td>Rent</td>\n",
       "      <td>Withdrawal</td>\n",
       "      <td>Rent</td>\n",
       "    </tr>\n",
       "    <tr>\n",
       "      <th>3</th>\n",
       "      <td>withdrew cash for weekend expenses</td>\n",
       "      <td>Withdrawal</td>\n",
       "      <td>Other</td>\n",
       "      <td>Withdrawal</td>\n",
       "      <td>Other</td>\n",
       "      <td>Withdrawal</td>\n",
       "      <td>Entertainment</td>\n",
       "    </tr>\n",
       "    <tr>\n",
       "      <th>4</th>\n",
       "      <td>purchased books from the bookstore</td>\n",
       "      <td>Purchase</td>\n",
       "      <td>Other</td>\n",
       "      <td>Purchase</td>\n",
       "      <td>Other</td>\n",
       "      <td>Purchase</td>\n",
       "      <td>Other</td>\n",
       "    </tr>\n",
       "    <tr>\n",
       "      <th>5</th>\n",
       "      <td>tax refund deposit</td>\n",
       "      <td>Deposit</td>\n",
       "      <td>Other</td>\n",
       "      <td>Deposit</td>\n",
       "      <td>Other</td>\n",
       "      <td>Deposit</td>\n",
       "      <td>Other</td>\n",
       "    </tr>\n",
       "    <tr>\n",
       "      <th>6</th>\n",
       "      <td>refund from clothing store</td>\n",
       "      <td>Refund</td>\n",
       "      <td>Other</td>\n",
       "      <td>Refund</td>\n",
       "      <td>Other</td>\n",
       "      <td>Refund</td>\n",
       "      <td>Other</td>\n",
       "    </tr>\n",
       "    <tr>\n",
       "      <th>7</th>\n",
       "      <td>withdrew money for rent payment</td>\n",
       "      <td>Withdrawal</td>\n",
       "      <td>Rent</td>\n",
       "      <td>Withdrawal</td>\n",
       "      <td>Rent</td>\n",
       "      <td>Withdrawal</td>\n",
       "      <td>Rent</td>\n",
       "    </tr>\n",
       "    <tr>\n",
       "      <th>8</th>\n",
       "      <td>insurance claim refund</td>\n",
       "      <td>Refund</td>\n",
       "      <td>Other</td>\n",
       "      <td>Refund</td>\n",
       "      <td>Other</td>\n",
       "      <td>Refund</td>\n",
       "      <td>Other</td>\n",
       "    </tr>\n",
       "    <tr>\n",
       "      <th>9</th>\n",
       "      <td>paid subscription service fee</td>\n",
       "      <td>Bill Payment</td>\n",
       "      <td>Other</td>\n",
       "      <td>Bill Payment</td>\n",
       "      <td>Other</td>\n",
       "      <td>Bill Payment</td>\n",
       "      <td>Other</td>\n",
       "    </tr>\n",
       "    <tr>\n",
       "      <th>10</th>\n",
       "      <td>purchased groceries at the local market</td>\n",
       "      <td>Purchase</td>\n",
       "      <td>Food</td>\n",
       "      <td>Purchase</td>\n",
       "      <td>Food</td>\n",
       "      <td>Purchase</td>\n",
       "      <td>Food</td>\n",
       "    </tr>\n",
       "    <tr>\n",
       "      <th>11</th>\n",
       "      <td>refund for returned electronics</td>\n",
       "      <td>Refund</td>\n",
       "      <td>Other</td>\n",
       "      <td>Refund</td>\n",
       "      <td>Other</td>\n",
       "      <td>Refund</td>\n",
       "      <td>Other</td>\n",
       "    </tr>\n",
       "    <tr>\n",
       "      <th>12</th>\n",
       "      <td>withdrew money for rent payment</td>\n",
       "      <td>Withdrawal</td>\n",
       "      <td>Rent</td>\n",
       "      <td>Withdrawal</td>\n",
       "      <td>Rent</td>\n",
       "      <td>Withdrawal</td>\n",
       "      <td>Rent</td>\n",
       "    </tr>\n",
       "    <tr>\n",
       "      <th>13</th>\n",
       "      <td>deposited gift money</td>\n",
       "      <td>Deposit</td>\n",
       "      <td>Other</td>\n",
       "      <td>Deposit</td>\n",
       "      <td>Other</td>\n",
       "      <td>Deposit</td>\n",
       "      <td>Other</td>\n",
       "    </tr>\n",
       "    <tr>\n",
       "      <th>14</th>\n",
       "      <td>paid for streaming service</td>\n",
       "      <td>Bill Payment</td>\n",
       "      <td>Entertainment</td>\n",
       "      <td>Purchase</td>\n",
       "      <td>Entertainment</td>\n",
       "      <td>Purchase</td>\n",
       "      <td>Entertainment</td>\n",
       "    </tr>\n",
       "    <tr>\n",
       "      <th>15</th>\n",
       "      <td>bought a watch from the jewelry store</td>\n",
       "      <td>Purchase</td>\n",
       "      <td>Other</td>\n",
       "      <td>Purchase</td>\n",
       "      <td>Other</td>\n",
       "      <td>Purchase</td>\n",
       "      <td>Other</td>\n",
       "    </tr>\n",
       "    <tr>\n",
       "      <th>16</th>\n",
       "      <td>utility bill payment for electricity</td>\n",
       "      <td>Bill Payment</td>\n",
       "      <td>Utilities</td>\n",
       "      <td>Bill Payment</td>\n",
       "      <td>Utilities</td>\n",
       "      <td>Bill Payment</td>\n",
       "      <td>Utilities</td>\n",
       "    </tr>\n",
       "    <tr>\n",
       "      <th>17</th>\n",
       "      <td>withdrew cash for weekend expenses</td>\n",
       "      <td>Withdrawal</td>\n",
       "      <td>Other</td>\n",
       "      <td>Withdrawal</td>\n",
       "      <td>Other</td>\n",
       "      <td>Withdrawal</td>\n",
       "      <td>Entertainment</td>\n",
       "    </tr>\n",
       "    <tr>\n",
       "      <th>18</th>\n",
       "      <td>withdrew cash for weekend expenses</td>\n",
       "      <td>Withdrawal</td>\n",
       "      <td>Other</td>\n",
       "      <td>Withdrawal</td>\n",
       "      <td>Other</td>\n",
       "      <td>Withdrawal</td>\n",
       "      <td>Entertainment</td>\n",
       "    </tr>\n",
       "    <tr>\n",
       "      <th>19</th>\n",
       "      <td>bought a new smartphone from the electronics s...</td>\n",
       "      <td>Purchase</td>\n",
       "      <td>Other</td>\n",
       "      <td>None</td>\n",
       "      <td>None</td>\n",
       "      <td>Purchase</td>\n",
       "      <td>Other</td>\n",
       "    </tr>\n",
       "  </tbody>\n",
       "</table>\n",
       "</div>"
      ],
      "text/plain": [
       "                              Transaction Description transaction_type  \\\n",
       "0                        cash deposit at local branch          Deposit   \n",
       "1                        cash deposit at local branch          Deposit   \n",
       "2                     withdrew money for rent payment       Withdrawal   \n",
       "3                  withdrew cash for weekend expenses       Withdrawal   \n",
       "4                  purchased books from the bookstore         Purchase   \n",
       "5                                  tax refund deposit          Deposit   \n",
       "6                          refund from clothing store           Refund   \n",
       "7                     withdrew money for rent payment       Withdrawal   \n",
       "8                              insurance claim refund           Refund   \n",
       "9                       paid subscription service fee     Bill Payment   \n",
       "10            purchased groceries at the local market         Purchase   \n",
       "11                    refund for returned electronics           Refund   \n",
       "12                    withdrew money for rent payment       Withdrawal   \n",
       "13                               deposited gift money          Deposit   \n",
       "14                         paid for streaming service     Bill Payment   \n",
       "15              bought a watch from the jewelry store         Purchase   \n",
       "16               utility bill payment for electricity     Bill Payment   \n",
       "17                 withdrew cash for weekend expenses       Withdrawal   \n",
       "18                 withdrew cash for weekend expenses       Withdrawal   \n",
       "19  bought a new smartphone from the electronics s...         Purchase   \n",
       "\n",
       "   transaction_category mistral_transaction_type mistral_transaction_category  \\\n",
       "0                 Other                  Deposit                        Other   \n",
       "1                 Other                  Deposit                        Other   \n",
       "2                  Rent               Withdrawal                         Rent   \n",
       "3                 Other               Withdrawal                        Other   \n",
       "4                 Other                 Purchase                        Other   \n",
       "5                 Other                  Deposit                        Other   \n",
       "6                 Other                   Refund                        Other   \n",
       "7                  Rent               Withdrawal                         Rent   \n",
       "8                 Other                   Refund                        Other   \n",
       "9                 Other             Bill Payment                        Other   \n",
       "10                 Food                 Purchase                         Food   \n",
       "11                Other                   Refund                        Other   \n",
       "12                 Rent               Withdrawal                         Rent   \n",
       "13                Other                  Deposit                        Other   \n",
       "14        Entertainment                 Purchase                Entertainment   \n",
       "15                Other                 Purchase                        Other   \n",
       "16            Utilities             Bill Payment                    Utilities   \n",
       "17                Other               Withdrawal                        Other   \n",
       "18                Other               Withdrawal                        Other   \n",
       "19                Other                     None                         None   \n",
       "\n",
       "   gpt3.5_transaction_type gpt3.5_transaction_category  \n",
       "0                  Deposit                       Other  \n",
       "1                  Deposit                       Other  \n",
       "2               Withdrawal                        Rent  \n",
       "3               Withdrawal               Entertainment  \n",
       "4                 Purchase                       Other  \n",
       "5                  Deposit                       Other  \n",
       "6                   Refund                       Other  \n",
       "7               Withdrawal                        Rent  \n",
       "8                   Refund                       Other  \n",
       "9             Bill Payment                       Other  \n",
       "10                Purchase                        Food  \n",
       "11                  Refund                       Other  \n",
       "12              Withdrawal                        Rent  \n",
       "13                 Deposit                       Other  \n",
       "14                Purchase               Entertainment  \n",
       "15                Purchase                       Other  \n",
       "16            Bill Payment                   Utilities  \n",
       "17              Withdrawal               Entertainment  \n",
       "18              Withdrawal               Entertainment  \n",
       "19                Purchase                       Other  "
      ]
     },
     "execution_count": 140,
     "metadata": {},
     "output_type": "execute_result"
    }
   ],
   "source": [
    "transaction_types = []\n",
    "transaction_categories = []\n",
    "for result in results:\n",
    "    transaction_types.append(result.transaction_type)\n",
    "    transaction_categories.append(\n",
    "        result.transaction_category)\n",
    "df[\"gpt3.5_transaction_type\"] = transaction_types\n",
    "df[\"gpt3.5_transaction_category\"] = transaction_categories\n",
    "df"
   ]
  },
  {
   "cell_type": "code",
   "execution_count": 143,
   "metadata": {},
   "outputs": [],
   "source": [
    "# Evaluate answers using LangChain evaluators:\n",
    "from langchain.evaluation import load_evaluator\n",
    "evaluator = load_evaluator(\"labeled_pairwise_string\")\n",
    "\n",
    "row = df.iloc[-1]\n",
    "transaction = row[\"Transaction Description\"]\n",
    "gpt3pt5_category = row[\"gpt3.5_transaction_category\"]\n",
    "gpt3pt5_type = row[\"gpt3.5_transaction_type\"]\n",
    "mistral_category = row[\"mistral_transaction_category\"]\n",
    "mistral_type = row[\"mistral_transaction_type\"]\n",
    "reference_category = row[\"transaction_category\"]\n",
    "reference_type = row[\"transaction_type\"]\n",
    "\n",
    "# Put the data into JSON format for the evaluator:\n",
    "gpt3pt5_data = f\"\"\"{{\n",
    " \"transaction_category\": \"{gpt3pt5_category}\",\n",
    " \"transaction_type\": \"{gpt3pt5_type}\"\n",
    "}}\"\"\"\n",
    "\n",
    "mistral_data = f\"\"\"{{\n",
    " \"transaction_category\": \"{mistral_category}\",\n",
    " \"transaction_type\": \"{mistral_type}\"\n",
    "}}\"\"\"\n",
    "\n",
    "reference_data = f\"\"\"{{\n",
    " \"transaction_category\": \"{reference_category}\",\n",
    " \"transaction_type\": \"{reference_type}\"\n",
    "}}\"\"\"\n",
    "\n",
    "# Set up the prompt input for context for the evaluator:\n",
    "input_prompt = \"\"\"You are an expert at analyzing bank\n",
    "transactions,\n",
    "you will be categorizing a single transaction.\n",
    "Always return a transaction type and category: do not\n",
    "return None.\n",
    "Format Instructions:\n",
    "{format_instructions}\n",
    "Transaction Text:\n",
    "{transaction}\n",
    "\"\"\""
   ]
  },
  {
   "cell_type": "code",
   "execution_count": 144,
   "metadata": {},
   "outputs": [
    {
     "data": {
      "text/plain": [
       "{'reasoning': 'Assistant A\\'s response is more helpful, relevant, and accurate. The user specifically asked for a transaction type and category and explicitly stated not to return \"None\". Assistant A correctly categorized the transaction as a \"Purchase\" under the \"Other\" category, which aligns with the user\\'s instructions and the transaction text provided. On the other hand, Assistant B\\'s response does not follow the user\\'s instructions as it returned \"None\" for both the transaction type and category, which is not helpful or accurate. \\n\\nTherefore, Assistant A\\'s response is superior in terms of helpfulness, relevance, correctness, and depth. \\n\\nFinal Verdict: [[A]]',\n",
       " 'value': 'A',\n",
       " 'score': 1}"
      ]
     },
     "execution_count": 144,
     "metadata": {},
     "output_type": "execute_result"
    }
   ],
   "source": [
    "evaluator.evaluate_string_pairs(\n",
    "    prediction=gpt3pt5_data,\n",
    "    prediction_b=mistral_data,\n",
    "    input=input_prompt.format(\n",
    "        format_instructions=output_parser.get_format_instructions(),\n",
    "        transaction=transaction),\n",
    "    reference=reference_data,\n",
    ")"
   ]
  },
  {
   "cell_type": "markdown",
   "metadata": {},
   "source": [
    "# Open AI Function\n"
   ]
  },
  {
   "cell_type": "code",
   "execution_count": 145,
   "metadata": {},
   "outputs": [],
   "source": [
    "from openai import OpenAI\n",
    "import json\n",
    "from os import getenv\n",
    "\n",
    "\n",
    "def schedule_meeting(date, time, attendees):\n",
    "    # Connect to calendar service:\n",
    "    return {\"event_id\": \"1234\", \"status\": \"Meeting scheduled successfully!\",\n",
    "            \"date\": date, \"time\": time, \"attendees\": attendees}\n",
    "\n",
    "\n",
    "OPENAI_FUNCTIONS = {\n",
    "    \"schedule_meeting\": schedule_meeting\n",
    "}"
   ]
  },
  {
   "cell_type": "code",
   "execution_count": 146,
   "metadata": {},
   "outputs": [],
   "source": [
    "functions = [\n",
    "    {\n",
    "        \"type\": \"function\",\n",
    "        \"function\": {\n",
    "            \"type\": \"object\",\n",
    "            \"name\": \"schedule_meeting\",\n",
    "            \"description\": '''Set a meeting at a specified date and time for\n",
    " designated attendees''',\n",
    "            \"parameters\": {\n",
    "                \"type\": \"object\",\n",
    "                \"properties\": {\n",
    "                    \"date\": {\"type\": \"string\", \"format\": \"date\"},\n",
    "                    \"time\": {\"type\": \"string\", \"format\": \"time\"},\n",
    "                    \"attendees\": {\"type\": \"array\", \"items\": {\"type\": \"string\"}},\n",
    "                },\n",
    "                \"required\": [\"date\", \"time\", \"attendees\"],\n",
    "            },\n",
    "        },\n",
    "    }\n",
    "]"
   ]
  },
  {
   "cell_type": "code",
   "execution_count": 147,
   "metadata": {},
   "outputs": [],
   "source": [
    "client = OpenAI()"
   ]
  },
  {
   "cell_type": "code",
   "execution_count": 148,
   "metadata": {},
   "outputs": [
    {
     "name": "stdout",
     "output_type": "stream",
     "text": [
      "ChatCompletionMessage(content=None, role='assistant', function_call=None, tool_calls=[ChatCompletionMessageToolCall(id='call_yiMptlVqA10WahQtNc58rPyS', function=Function(arguments='{\"date\":\"2023-11-01\",\"time\":\"14:00\",\"attendees\":[\"Alice\",\"Bob\"]}', name='schedule_meeting'), type='function')], refusal=None)\n"
     ]
    }
   ],
   "source": [
    "# Start the conversation:\n",
    "messages = [\n",
    "    {\n",
    "        \"role\": \"user\",\n",
    "        \"content\": '''Schedule a meeting on 2023-11-01 at 14:00 with Alice and Bob.''',\n",
    "    }\n",
    "]\n",
    "# Send the conversation and function schema to the model:\n",
    "response = client.chat.completions.create(\n",
    "    model=\"gpt-3.5-turbo-1106\",\n",
    "    messages=messages,\n",
    "    tools=functions,\n",
    ")\n",
    "\n",
    "response = response.choices[0].message\n",
    "\n",
    "print(response)"
   ]
  },
  {
   "cell_type": "code",
   "execution_count": 150,
   "metadata": {},
   "outputs": [
    {
     "name": "stdout",
     "output_type": "stream",
     "text": [
      "This is the function name:  schedule_meeting\n",
      "These are the function arguments:  {'date': '2023-11-01', 'time': '14:00', 'attendees': ['Alice', 'Bob']}\n",
      "Meeting scheduled successfully! The meeting with Alice and Bob is set for November 1, 2023, at 14:00.\n"
     ]
    }
   ],
   "source": [
    "# Check if the model wants to call our function:\n",
    "if response.tool_calls:\n",
    "    # Get the first function call:\n",
    "    first_tool_call = response.tool_calls[0]\n",
    "\n",
    "    # Find the function name and function args to call:\n",
    "    function_name = first_tool_call.function.name\n",
    "    function_args = json.loads(first_tool_call.function.arguments)\n",
    "    print(\"This is the function name: \", function_name)\n",
    "    print(\"These are the function arguments: \", function_args)\n",
    "\n",
    "    function = OPENAI_FUNCTIONS.get(function_name)\n",
    "\n",
    "    if not function:\n",
    "        raise Exception(f\"Function {function_name} not found.\")\n",
    "\n",
    "    # Call the function:\n",
    "    function_response = function(**function_args)\n",
    "\n",
    "    # Share the function's response with the model:\n",
    "    messages.append(\n",
    "        {\n",
    "            \"role\": \"function\",\n",
    "            \"name\": \"schedule_meeting\",\n",
    "            \"content\": json.dumps(function_response),\n",
    "        }\n",
    "    )\n",
    "\n",
    "    # Let the model generate a user-friendly response:\n",
    "    second_response = client.chat.completions.create(\n",
    "        model=\"gpt-3.5-turbo\", messages=messages\n",
    "    )\n",
    "\n",
    "    print(second_response.choices[0].message.content)"
   ]
  },
  {
   "cell_type": "markdown",
   "metadata": {},
   "source": [
    "# Parallel Function Calling\n"
   ]
  },
  {
   "cell_type": "code",
   "execution_count": 151,
   "metadata": {},
   "outputs": [],
   "source": [
    "# Start the conversation:\n",
    "messages = [\n",
    "    {\n",
    "        \"role\": \"user\",\n",
    "        \"content\": '''Schedule a meeting on 2023-11-01 at 14:00 with Alice\n",
    " and Bob. Then I want to schedule another meeting on 2023-11-02 at\n",
    " 15:00 with Charlie and Dave.'''\n",
    "    }\n",
    "]"
   ]
  },
  {
   "cell_type": "code",
   "execution_count": 152,
   "metadata": {},
   "outputs": [
    {
     "name": "stdout",
     "output_type": "stream",
     "text": [
      "ChatCompletionMessage(content=None, role='assistant', function_call=None, tool_calls=[ChatCompletionMessageToolCall(id='call_dBcM9KfHONFGQ3dU7GLXGEjC', function=Function(arguments='{\"date\": \"2023-11-01\", \"time\": \"14:00\", \"attendees\": [\"Alice\", \"Bob\"]}', name='schedule_meeting'), type='function'), ChatCompletionMessageToolCall(id='call_pJ2q4RiDWRDedN7v5afwLriH', function=Function(arguments='{\"date\": \"2023-11-02\", \"time\": \"15:00\", \"attendees\": [\"Charlie\", \"Dave\"]}', name='schedule_meeting'), type='function')], refusal=None)\n"
     ]
    }
   ],
   "source": [
    "# Send the conversation and function schema to the model:\n",
    "response = client.chat.completions.create(\n",
    "    model=\"gpt-3.5-turbo-1106\",\n",
    "    messages=messages,\n",
    "    tools=functions,\n",
    ")\n",
    "\n",
    "response = response.choices[0].message\n",
    "\n",
    "print(response)"
   ]
  },
  {
   "cell_type": "code",
   "execution_count": 154,
   "metadata": {},
   "outputs": [
    {
     "name": "stdout",
     "output_type": "stream",
     "text": [
      "This is the function name:  schedule_meeting\n",
      "These are the function arguments:  {'date': '2023-11-01', 'time': '14:00', 'attendees': ['Alice', 'Bob']}\n",
      "This is the function name:  schedule_meeting\n",
      "These are the function arguments:  {'date': '2023-11-02', 'time': '15:00', 'attendees': ['Charlie', 'Dave']}\n",
      "Two meetings have been successfully scheduled:\n",
      "\n",
      "1. Meeting with Alice and Bob on 2023-11-01 at 14:00.\n",
      "2. Meeting with Charlie and Dave on 2023-11-02 at 15:00.\n"
     ]
    }
   ],
   "source": [
    "# Check if the model wants to call our function:\n",
    "if response.tool_calls:\n",
    "    for tool_call in response.tool_calls:\n",
    "        # Get the function name and arguments to call:\n",
    "        function_name = tool_call.function.name\n",
    "        function_args = json.loads(tool_call.function.arguments)\n",
    "\n",
    "        print(\"This is the function name: \", function_name)\n",
    "        print(\"These are the function arguments: \", function_args)\n",
    "\n",
    "        function = OPENAI_FUNCTIONS.get(function_name)\n",
    "\n",
    "        if not function:\n",
    "            raise Exception(f\"Function {function_name} not found.\")\n",
    "\n",
    "        # Call the function:\n",
    "        function_response = function(**function_args)\n",
    "\n",
    "        # Share the function's response with the model:\n",
    "        messages.append(\n",
    "            {\n",
    "                \"role\": \"function\",\n",
    "                \"name\": function_name,\n",
    "                \"content\": json.dumps(function_response),\n",
    "            }\n",
    "        )\n",
    "\n",
    "    # Let the model generate a user-friendly response:\n",
    "    second_response = client.chat.completions.create(\n",
    "        model=\"gpt-3.5-turbo\", messages=messages\n",
    "    )\n",
    "    print(second_response.choices[0].message.content)"
   ]
  },
  {
   "cell_type": "markdown",
   "metadata": {},
   "source": [
    "# Function Calling in LangChain\n"
   ]
  },
  {
   "cell_type": "code",
   "execution_count": 155,
   "metadata": {},
   "outputs": [
    {
     "name": "stdout",
     "output_type": "stream",
     "text": [
      "[Article(points='the growing interest in AI adoption in industry', contrarian_points=None, author='Dr. Jane Smith')]\n"
     ]
    }
   ],
   "source": [
    "from langchain.output_parsers.openai_tools import PydanticToolsParser\n",
    "from langchain_core.utils.function_calling import convert_to_openai_tool\n",
    "from langchain_core.prompts import ChatPromptTemplate\n",
    "from langchain_openai.chat_models import ChatOpenAI\n",
    "from langchain_core.pydantic_v1 import BaseModel, Field\n",
    "from typing import Optional\n",
    "\n",
    "\n",
    "class Article(BaseModel):\n",
    "    \"\"\"Identifying key points and contrarian views in an article.\"\"\"\n",
    "    points: str = Field(..., description=\"Key points from the article\")\n",
    "    contrarian_points: Optional[str] = Field(\n",
    "        None, description=\"Any contrarian points acknowledged in the article\"\n",
    "    )\n",
    "    author: Optional[str] = Field(None, description=\"Author of the article\")\n",
    "\n",
    "\n",
    "_EXTRACTION_TEMPLATE = \"\"\"Extract and save the relevant entities mentioned \\\n",
    "in the following passage together with their properties.\n",
    "If a property is not present and is not required in the function parameters,\n",
    "do not include it in the output.\"\"\"\n",
    "\n",
    "# Create a prompt telling the LLM to extract information:\n",
    "prompt = ChatPromptTemplate.from_messages(\n",
    "    {(\"system\", _EXTRACTION_TEMPLATE), (\"user\", \"{input}\")}\n",
    ")\n",
    "\n",
    "model = ChatOpenAI()\n",
    "\n",
    "pydantic_schemas = [Article]\n",
    "\n",
    "# Convert Pydantic objects to the appropriate schema:\n",
    "tools = [convert_to_openai_tool(p) for p in pydantic_schemas]\n",
    "\n",
    "# Give the model access to these tools:\n",
    "model = model.bind_tools(tools=tools)\n",
    "\n",
    "# Create an end to end chain:\n",
    "chain = prompt | model | PydanticToolsParser(tools=pydantic_schemas)\n",
    "\n",
    "result = chain.invoke(\n",
    "    {\n",
    "        \"input\": \"\"\"In the recent article titled 'AI adoption in industry,'\n",
    " key points addressed include the growing interest ... However, the\n",
    " author, Dr. Jane Smith, ...\"\"\"\n",
    "    }\n",
    ")\n",
    "\n",
    "print(result)"
   ]
  },
  {
   "cell_type": "markdown",
   "metadata": {},
   "source": [
    "# Extracting Data with LangChain\n"
   ]
  },
  {
   "cell_type": "code",
   "execution_count": 158,
   "metadata": {},
   "outputs": [
    {
     "data": {
      "text/plain": [
       "Person(name='Bob', age=25)"
      ]
     },
     "execution_count": 158,
     "metadata": {},
     "output_type": "execute_result"
    }
   ],
   "source": [
    "from langchain.chains.openai_tools import create_extraction_chain_pydantic\n",
    "from langchain_openai.chat_models import ChatOpenAI\n",
    "from langchain_core.pydantic_v1 import BaseModel, Field\n",
    "\n",
    "# Make sure to use a recent model that supports tools:\n",
    "model = ChatOpenAI(model=\"gpt-3.5-turbo\")\n",
    "\n",
    "\n",
    "class Person(BaseModel):\n",
    "    \"\"\"A person's name and age.\"\"\"\n",
    "    name: str = Field(..., description=\"The person's name\")\n",
    "    age: int = Field(..., description=\"The person's age\")\n",
    "\n",
    "# Old Way\n",
    "# chain = create_extraction_chain_pydantic(Person, model)\n",
    "# chain.invoke({'input': '''Bob is 25 years old. He lives in New York.\n",
    "# He likes to play basketball. Sarah is 30 years old. She lives in San\n",
    "# Francisco. She likes to play tennis.'''})\n",
    "\n",
    "\n",
    "# Current Way\n",
    "structured_llm = model.with_structured_output(Person)\n",
    "\n",
    "structured_llm.invoke('''Bob is 25 years old. He lives in New York.\n",
    "He likes to play basketball. Sarah is 30 years old. She lives in San\n",
    "Francisco. She likes to play tennis.''')"
   ]
  },
  {
   "cell_type": "markdown",
   "metadata": {},
   "source": [
    "# Query Planning\n"
   ]
  },
  {
   "cell_type": "code",
   "execution_count": 159,
   "metadata": {},
   "outputs": [],
   "source": [
    "from langchain_openai.chat_models import ChatOpenAI\n",
    "from langchain.output_parsers.pydantic import PydanticOutputParser\n",
    "from langchain_core.prompts.chat import (\n",
    "    ChatPromptTemplate,\n",
    "    SystemMessagePromptTemplate,\n",
    ")\n",
    "from pydantic.v1 import BaseModel, Field\n",
    "from typing import List\n",
    "\n",
    "\n",
    "class Query(BaseModel):\n",
    "    id: int\n",
    "    question: str\n",
    "    dependencies: List[int] = Field(\n",
    "        default_factory=list,\n",
    "        description=\"\"\"A list of sub-queries that must be completed before\n",
    " this task can be completed.\n",
    " Use a sub query when anything is unknown and we might need to ask\n",
    " many queries to get an answer.\n",
    " Dependencies must only be other queries.\"\"\"\n",
    "    )\n",
    "\n",
    "\n",
    "class QueryPlan(BaseModel):\n",
    "    query_graph: List[Query]"
   ]
  },
  {
   "cell_type": "code",
   "execution_count": 163,
   "metadata": {},
   "outputs": [
    {
     "name": "stdout",
     "output_type": "stream",
     "text": [
      "[Query(id=1, question='Retrieve results from the database', dependencies=[]), Query(id=2, question='Calculate the average age of the top 10 customers', dependencies=[1]), Query(id=3, question='Send an email to John with the average age of the top 10 customers', dependencies=[2]), Query(id=4, question='Send a welcome introduction email to Sarah', dependencies=[])]\n"
     ]
    }
   ],
   "source": [
    "# Set up a chat model:\n",
    "model = ChatOpenAI()\n",
    "\n",
    "# Set up a parser:\n",
    "parser = PydanticOutputParser(pydantic_object=QueryPlan)\n",
    "\n",
    "template = \"\"\"Generate a query plan. This will be used for task execution.\n",
    "Answer the following query: {query}\n",
    "Return the following query graph format:\n",
    "{format_instructions}\n",
    "\"\"\"\n",
    "system_message_prompt = SystemMessagePromptTemplate.from_template(template)\n",
    "\n",
    "chat_prompt = ChatPromptTemplate.from_messages([system_message_prompt])\n",
    "# Create the LCEL chain with the prompt, model, and parser:\n",
    "chain = chat_prompt | model | parser\n",
    "\n",
    "result = chain.invoke({\n",
    "    \"query\": '''I want to get the results from my database. Then I want to find\n",
    "out what the average age of my top 10 customers is. Once I have the average\n",
    "age, I want to send an email to John. Also I just generally want to send a\n",
    "welcome introduction email to Sarah, regardless of the other tasks.''',\n",
    "    \"format_instructions\": parser.get_format_instructions()})\n",
    "\n",
    "print(result.query_graph)"
   ]
  },
  {
   "cell_type": "code",
   "execution_count": 167,
   "metadata": {},
   "outputs": [],
   "source": [
    "from langchain_openai.chat_models import ChatOpenAI\n",
    "from langchain_core.prompts import (\n",
    "    FewShotChatMessagePromptTemplate,\n",
    "    ChatPromptTemplate,\n",
    ")\n",
    "examples = [\n",
    "    {\n",
    "        \"question\": \"What is the capital of Italy?\",\n",
    "        \"answer\": \"Rome\"\n",
    "    },\n",
    "    {\n",
    "        \"question\": \"What is the capital of Germany?\",\n",
    "        \"answer\": \"Berlin\"\n",
    "    },\n",
    "    {\n",
    "        \"question\": \"What is the capital of Japan?\",\n",
    "        \"answer\": \"Tokyo\"\n",
    "    },\n",
    "    {\n",
    "        \"question\": \"What is the capital of Canada?\",\n",
    "        \"answer\": \"Ottawa\"\n",
    "    },\n",
    "    {\n",
    "        \"question\": \"What is the capital of Australia?\",\n",
    "        \"answer\": \"Canberra\"\n",
    "    },\n",
    "    {\n",
    "        \"question\": \"What is the capital of Brazil?\",\n",
    "        \"answer\": \"Brasília\"\n",
    "    },\n",
    "    {\n",
    "        \"question\": \"What is the capital of South Africa?\",\n",
    "        \"answer\": \"Pretoria\"\n",
    "    },\n",
    "    {\n",
    "        \"question\": \"What is the capital of Egypt?\",\n",
    "        \"answer\": \"Cairo\"\n",
    "    },\n",
    "    {\n",
    "        \"question\": \"What is the capital of India?\",\n",
    "        \"answer\": \"New Delhi\"\n",
    "    },\n",
    "    {\n",
    "        \"question\": \"What is the capital of Russia?\",\n",
    "        \"answer\": \"Moscow\"\n",
    "    }\n",
    "]"
   ]
  },
  {
   "cell_type": "code",
   "execution_count": 168,
   "metadata": {},
   "outputs": [
    {
     "name": "stdout",
     "output_type": "stream",
     "text": [
      "Human: What is the capital of Italy?\n",
      "AI: Rome\n",
      "Human: What is the capital of Germany?\n",
      "AI: Berlin\n",
      "Human: What is the capital of Japan?\n",
      "AI: Tokyo\n",
      "Human: What is the capital of Canada?\n",
      "AI: Ottawa\n",
      "Human: What is the capital of Australia?\n",
      "AI: Canberra\n",
      "Human: What is the capital of Brazil?\n",
      "AI: Brasília\n",
      "Human: What is the capital of South Africa?\n",
      "AI: Pretoria\n",
      "Human: What is the capital of Egypt?\n",
      "AI: Cairo\n",
      "Human: What is the capital of India?\n",
      "AI: New Delhi\n",
      "Human: What is the capital of Russia?\n",
      "AI: Moscow\n"
     ]
    }
   ],
   "source": [
    "example_prompt = ChatPromptTemplate.from_messages(\n",
    "    [\n",
    "        (\"human\", \"{question}\"),\n",
    "        (\"ai\", \"{answer}\"),\n",
    "    ]\n",
    ")\n",
    "few_shot_prompt = FewShotChatMessagePromptTemplate(\n",
    "    example_prompt=example_prompt,\n",
    "    examples=examples,\n",
    ")\n",
    "print(few_shot_prompt.format())"
   ]
  },
  {
   "cell_type": "code",
   "execution_count": 169,
   "metadata": {},
   "outputs": [
    {
     "name": "stdout",
     "output_type": "stream",
     "text": [
      "Washington, D.C.\n"
     ]
    }
   ],
   "source": [
    "from langchain_core.output_parsers import StrOutputParser\n",
    "\n",
    "final_prompt = ChatPromptTemplate.from_messages(\n",
    "    [(\"system\", '''You are responsible for answering\n",
    " questions about countries. Only return the country\n",
    " name.'''),\n",
    "     few_shot_prompt, (\"human\", \"{question}\"),]\n",
    ")\n",
    "\n",
    "model = ChatOpenAI()\n",
    "\n",
    "# Creating the LCEL chain with the prompt, model, and a StrOutputParser():\n",
    "chain = final_prompt | model | StrOutputParser()\n",
    "\n",
    "result = chain.invoke({\"question\": \"What is the capital of America?\"})\n",
    "print(result)"
   ]
  },
  {
   "cell_type": "markdown",
   "metadata": {},
   "source": [
    "# Selecting Few-Shot Examples by Length\n"
   ]
  },
  {
   "cell_type": "code",
   "execution_count": 170,
   "metadata": {},
   "outputs": [],
   "source": [
    "from langchain_core.prompts import FewShotPromptTemplate, PromptTemplate\n",
    "from langchain.prompts.example_selector import LengthBasedExampleSelector\n",
    "from langchain_openai.chat_models import ChatOpenAI\n",
    "from langchain_core.messages import SystemMessage\n",
    "import tiktoken\n",
    "examples = [\n",
    "    {\"input\": \"Gollum\", \"output\": \"<Story involving Gollum>\"},\n",
    "    {\"input\": \"Gandalf\", \"output\": \"<Story involving Gandalf>\"},\n",
    "    {\"input\": \"Bilbo\", \"output\": \"<Story involving Bilbo>\"},\n",
    "]\n",
    "story_prompt = PromptTemplate(\n",
    "    input_variables=[\"input\", \"output\"],\n",
    "    template=\"Character: {input}\\nStory: {output}\",\n",
    ")\n",
    "\n",
    "\n",
    "def num_tokens_from_string(string: str) -> int:\n",
    "    \"\"\"Returns the number of tokens in a text string.\"\"\"\n",
    "    encoding = tiktoken.get_encoding(\"cl100k_base\")\n",
    "    num_tokens = len(encoding.encode(string))\n",
    "    return num_tokens\n",
    "\n",
    "\n",
    "example_selector = LengthBasedExampleSelector(\n",
    "    examples=examples,\n",
    "    example_prompt=story_prompt,\n",
    "    max_length=1000,  # 1000 tokens are to be included from examples\n",
    "    # get_text_length: Callable[[str], int] = lambda x: len(re.split(\"\\n| \", x))\n",
    "    # You have modified the get_text_length function to work with the\n",
    "    # TikToken library based on token usage:\n",
    "    get_text_length=num_tokens_from_string,\n",
    ")"
   ]
  },
  {
   "cell_type": "code",
   "execution_count": 171,
   "metadata": {},
   "outputs": [
    {
     "name": "stdout",
     "output_type": "stream",
     "text": [
      "Frodo was feeling overwhelmed by the burden of the One Ring, knowing that its power was growing stronger and that the forces of darkness were closing in on him. Seeking guidance, he turned to Gandalf, the wise wizard who had always been a trusted mentor to him.\n",
      "\n",
      "Gandalf listened intently to Frodo's fears and worries, his eyes filled with concern. He knew that Frodo's journey was fraught with danger, but he also believed in the young hobbit's courage and resilience. Gandalf reassured Frodo that he was not alone in this quest, that there were allies who would stand by his side and help him in his darkest hour.\n",
      "\n",
      "But as Frodo's journey continued, he couldn't shake the feeling that someone else was watching him, following his every move. It was Gollum, the twisted creature who had once possessed the Ring and who now coveted it with a fierce and unrelenting desire.\n",
      "\n",
      "Gollum's presence haunted Frodo, filling him with unease and distrust. But Bilbo, Frodo's beloved uncle, reminded him of the power of compassion and forgiveness. Bilbo shared stories of his own struggles with the Ring and how he had found the strength to let it go, urging Frodo to hold on to hope and to remember the good in the world.\n",
      "\n",
      "With Gandalf's wisdom, Bilbo's encouragement, and his own inner strength, Frodo found the courage to continue his journey, knowing that the fate of Middle-earth rested on his shoulders. And as he faced the darkness ahead, Frodo held on to the light of friendship and love that would guide him through the shadows.\n"
     ]
    }
   ],
   "source": [
    "dynamic_prompt = FewShotPromptTemplate(\n",
    "    example_selector=example_selector,\n",
    "    example_prompt=story_prompt,\n",
    "    prefix='''Generate a story for {character} using the\n",
    " current Character/Story pairs from all of the characters\n",
    " as context.''',\n",
    "    suffix=\"Character: {character}\\nStory:\",\n",
    "    input_variables=[\"character\"],\n",
    ")\n",
    "# Provide a new character from Lord of the Rings:\n",
    "formatted_prompt = dynamic_prompt.format(character=\"Frodo\")\n",
    "# Creating the chat model:\n",
    "chat = ChatOpenAI()\n",
    "response = chat.invoke([SystemMessage(content=formatted_prompt)])\n",
    "print(response.content)"
   ]
  },
  {
   "cell_type": "markdown",
   "metadata": {},
   "source": [
    "# Saving and Loading LLM Prompts\n"
   ]
  },
  {
   "cell_type": "code",
   "execution_count": 172,
   "metadata": {},
   "outputs": [
    {
     "data": {
      "text/plain": [
       "PromptTemplate(input_variables=['sentence'], template='Translate this sentence from English to Spanish.\\n \\nSentence: {sentence}\\nTranslation:')"
      ]
     },
     "execution_count": 172,
     "metadata": {},
     "output_type": "execute_result"
    }
   ],
   "source": [
    "from langchain_core.prompts import PromptTemplate, load_prompt\n",
    "prompt = PromptTemplate(\n",
    "    template='''Translate this sentence from English to Spanish.\n",
    " \\nSentence: {sentence}\\nTranslation:''',\n",
    "    input_variables=[\"sentence\"],\n",
    ")\n",
    "prompt.save(\"translation_prompt.json\")\n",
    "# Loading the prompt template:\n",
    "load_prompt(\"translation_prompt.json\")\n",
    "# Returns PromptTemplate()"
   ]
  },
  {
   "cell_type": "code",
   "execution_count": null,
   "metadata": {},
   "outputs": [],
   "source": []
  }
 ],
 "metadata": {
  "kernelspec": {
   "display_name": "langchain-vector_db",
   "language": "python",
   "name": "python3"
  },
  "language_info": {
   "codemirror_mode": {
    "name": "ipython",
    "version": 3
   },
   "file_extension": ".py",
   "mimetype": "text/x-python",
   "name": "python",
   "nbconvert_exporter": "python",
   "pygments_lexer": "ipython3",
   "version": "3.10.12"
  }
 },
 "nbformat": 4,
 "nbformat_minor": 2
}
