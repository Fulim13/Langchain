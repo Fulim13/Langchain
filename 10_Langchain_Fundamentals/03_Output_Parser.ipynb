{
 "cells": [
  {
   "cell_type": "markdown",
   "metadata": {},
   "source": [
    "# Output Parser\n",
    "\n",
    "- Extract the output from the model to the desired format.\n"
   ]
  },
  {
   "cell_type": "markdown",
   "metadata": {},
   "source": [
    "`.get_format_instructions()`\n",
    "This function provides the necessary instructions into your prompt to output a\n",
    "structured format that can be parsed.\n",
    "\n",
    "`.parse(llm_output: str)`\n",
    "This function is responsible for parsing your LLM responses into a predefined\n",
    "format.\n"
   ]
  },
  {
   "cell_type": "markdown",
   "metadata": {},
   "source": [
    "principles = \"\"\"\n",
    "\n",
    "- The name must be easy to remember.\n",
    "- The name must be easy to pronounce.\n",
    "- Avoid returning full stops, \\n, or any other characters.\n",
    "- The maximum length of the name must be 10 characters.\n",
    "  \"\"\"\n"
   ]
  },
  {
   "cell_type": "markdown",
   "metadata": {},
   "source": [
    "### Output Parser with parser.parse\n"
   ]
  },
  {
   "cell_type": "code",
   "execution_count": 8,
   "metadata": {},
   "outputs": [
    {
     "name": "stdout",
     "output_type": "stream",
     "text": [
      "characters=[Character(name='Eva', description='A kind-hearted blacksmith with a mysterious past', characteristic='Strong-willed', important=8.5, type='Good', frequency=8), Character(name='Kai', description='A cunning merchant who trades in rare antiquities', characteristic='Secretive', important=7.0, type='Neutral', frequency=6), Character(name='Din', description='A wise old sorcerer who is the guardian of the lost world', characteristic='Enigmatic', important=9.5, type='Good', frequency=5), Character(name='Nad', description='A ruthless bandit leader seeking the power of the lost world', characteristic='Fearless', important=8.0, type='Bad', frequency=7), Character(name='Lyn', description='A curious scholar who follows the lone wanderer', characteristic='Inquisitive', important=6.5, type='Neutral', frequency=9)]\n"
     ]
    }
   ],
   "source": [
    "from langchain_mistralai.chat_models import ChatMistralAI\n",
    "from langchain_core.prompts import SystemMessagePromptTemplate, ChatPromptTemplate\n",
    "from langchain.output_parsers import PydanticOutputParser\n",
    "from pydantic.v1 import BaseModel, Field\n",
    "from typing import List\n",
    "\n",
    "from dotenv import load_dotenv\n",
    "load_dotenv()\n",
    "\n",
    "# Define Model\n",
    "model = ChatMistralAI()\n",
    "\n",
    "# Define Pydantic Structure\n",
    "\n",
    "\n",
    "class Character(BaseModel):\n",
    "    name: str = Field(description=\"The name of the character\")\n",
    "    description: str = Field(\n",
    "        description=\"The general description of this character\")\n",
    "    characteristic: str = Field(\n",
    "        description=\"The adjective of this character, EG charisma\")\n",
    "    important: float = Field(\n",
    "        description=\"How important this character in this story, score 1.0-10.0\")\n",
    "    type: str = Field(\n",
    "        description=\"The type of the character, either good, bad, neutral\")\n",
    "    frequency: int = Field(\n",
    "        description=\"The number of times will appear in the story\")\n",
    "\n",
    "\n",
    "class Characters(BaseModel):\n",
    "    characters: List[Character] = Field(description=\"A list of character\")\n",
    "\n",
    "\n",
    "# Define Output Parser\n",
    "parser = PydanticOutputParser(pydantic_object=Characters)\n",
    "\n",
    "# Define Principle and Template\n",
    "principles = \"\"\"\n",
    "- The name must be easy to remember.\n",
    "- The name must be easy to pronounce.\n",
    "- Avoid returning full stops, \\n, or any other characters.\n",
    "- The maximum length of the name must be 10 characters.\n",
    "\"\"\"\n",
    "\n",
    "template = \"\"\"\n",
    "Generate a list of {n} characters for the story {context}\n",
    "\n",
    "The generation must follow this principles: {principles}\n",
    "{format_instruction}\n",
    "\"\"\"\n",
    "\n",
    "# Define SystemMessagePromptTemplate and ChatPromptTemplate\n",
    "system_prompt = SystemMessagePromptTemplate.from_template(template=template)\n",
    "user_prompt = ChatPromptTemplate.from_messages([system_prompt])\n",
    "\n",
    "# LCEL\n",
    "chain = user_prompt | model\n",
    "\n",
    "# Invoke\n",
    "response = chain.invoke({\n",
    "    \"n\": 5,\n",
    "    \"context\": \"In the twilight of a forgotten kingdom, a lone wanderer discovered an ancient key that whispered secrets of a lost world hidden beneath the earth.\",\n",
    "    \"principles\": principles,\n",
    "    \"format_instruction\": parser.get_format_instructions(),\n",
    "})\n",
    "\n",
    "# Parser.parse to get back result\n",
    "print(parser.parse(response.content))"
   ]
  },
  {
   "cell_type": "markdown",
   "metadata": {},
   "source": [
    "### Output Parser with LCEL\n"
   ]
  },
  {
   "cell_type": "code",
   "execution_count": 9,
   "metadata": {},
   "outputs": [
    {
     "name": "stdout",
     "output_type": "stream",
     "text": [
      "characters=[Character(name='Eva', description='A kind-hearted blacksmith with a mysterious past.', characteristic='Strong-willed', important=8.5, type='Good', frequency=8), Character(name='Cato', description='A cunning merchant who trades in rare antiquities.', characteristic='Secretive', important=7.0, type='Neutral', frequency=6), Character(name='Kai', description='A mischievous rogue with a heart of gold, often found in taverns.', characteristic='Witty', important=6.5, type='Good', frequency=7), Character(name='Lila', description='A wise old seer who lives in the outskirts of the kingdom.', characteristic='Mysterious', important=9.0, type='Good', frequency=5), Character(name='Drax', description='A ruthless warlord bent on conquering the forgotten kingdom.', characteristic='Cruel', important=10.0, type='Bad', frequency=9)]\n"
     ]
    }
   ],
   "source": [
    "# LCEL\n",
    "chain = user_prompt | model | parser\n",
    "\n",
    "# Invoke\n",
    "response = chain.invoke({\n",
    "    \"n\": 5,\n",
    "    \"context\": \"In the twilight of a forgotten kingdom, a lone wanderer discovered an ancient key that whispered secrets of a lost world hidden beneath the earth.\",\n",
    "    \"principles\": principles,\n",
    "    \"format_instruction\": parser.get_format_instructions(),\n",
    "})\n",
    "\n",
    "print(response)"
   ]
  },
  {
   "cell_type": "code",
   "execution_count": null,
   "metadata": {},
   "outputs": [],
   "source": []
  }
 ],
 "metadata": {
  "kernelspec": {
   "display_name": "langchain-vector_db",
   "language": "python",
   "name": "python3"
  },
  "language_info": {
   "codemirror_mode": {
    "name": "ipython",
    "version": 3
   },
   "file_extension": ".py",
   "mimetype": "text/x-python",
   "name": "python",
   "nbconvert_exporter": "python",
   "pygments_lexer": "ipython3",
   "version": "3.10.12"
  }
 },
 "nbformat": 4,
 "nbformat_minor": 2
}
