{
 "cells": [
  {
   "cell_type": "markdown",
   "metadata": {},
   "source": [
    "# Fixed-Length Few-Shot\n"
   ]
  },
  {
   "cell_type": "code",
   "execution_count": 1,
   "metadata": {},
   "outputs": [],
   "source": [
    "from langchain_openai.chat_models import ChatOpenAI\n",
    "from langchain_core.prompts import FewShotChatMessagePromptTemplate, ChatPromptTemplate\n",
    "\n",
    "examples = [\n",
    "    {\n",
    "        \"question\": \"What is the capital of France?\",\n",
    "        \"answer\": \"Paris\"\n",
    "    },\n",
    "    {\n",
    "        \"question\": \"Who wrote the play 'Romeo and Juliet'?\",\n",
    "        \"answer\": \"William Shakespeare\"\n",
    "    },\n",
    "    {\n",
    "        \"question\": \"What is the chemical symbol for water?\",\n",
    "        \"answer\": \"H2O\"\n",
    "    },\n",
    "    {\n",
    "        \"question\": \"What is the largest planet in our solar system?\",\n",
    "        \"answer\": \"Jupiter\"\n",
    "    },\n",
    "    {\n",
    "        \"question\": \"What year did the Titanic sink?\",\n",
    "        \"answer\": \"1912\"\n",
    "    },\n",
    "    {\n",
    "        \"question\": \"What is the fastest land animal?\",\n",
    "        \"answer\": \"Cheetah\"\n",
    "    },\n",
    "    {\n",
    "        \"question\": \"Who was the first President of the United States?\",\n",
    "        \"answer\": \"George Washington\"\n",
    "    },\n",
    "    {\n",
    "        \"question\": \"What is the square root of 64?\",\n",
    "        \"answer\": \"8\"\n",
    "    },\n",
    "    {\n",
    "        \"question\": \"Which element has the atomic number 1?\",\n",
    "        \"answer\": \"Hydrogen\"\n",
    "    },\n",
    "    {\n",
    "        \"question\": \"What is the largest ocean on Earth?\",\n",
    "        \"answer\": \"Pacific Ocean\"\n",
    "    },\n",
    "    {\n",
    "        \"question\": \"What is the smallest country in the world?\",\n",
    "        \"answer\": \"Vatican City\"\n",
    "    },\n",
    "    {\n",
    "        \"question\": \"Who painted the Mona Lisa?\",\n",
    "        \"answer\": \"Leonardo da Vinci\"\n",
    "    }\n",
    "]\n",
    "\n",
    "\n",
    "example_prompt = ChatPromptTemplate.from_messages(\n",
    "    [\n",
    "        (\"human\", \"{question}\"),\n",
    "        (\"ai\", \"{answer}\")\n",
    "    ]\n",
    ")"
   ]
  },
  {
   "cell_type": "code",
   "execution_count": 2,
   "metadata": {},
   "outputs": [
    {
     "name": "stdout",
     "output_type": "stream",
     "text": [
      "Human: What is the capital of France?\n",
      "AI: Paris\n",
      "Human: Who wrote the play 'Romeo and Juliet'?\n",
      "AI: William Shakespeare\n",
      "Human: What is the chemical symbol for water?\n",
      "AI: H2O\n",
      "Human: What is the largest planet in our solar system?\n",
      "AI: Jupiter\n",
      "Human: What year did the Titanic sink?\n",
      "AI: 1912\n",
      "Human: What is the fastest land animal?\n",
      "AI: Cheetah\n",
      "Human: Who was the first President of the United States?\n",
      "AI: George Washington\n",
      "Human: What is the square root of 64?\n",
      "AI: 8\n",
      "Human: Which element has the atomic number 1?\n",
      "AI: Hydrogen\n",
      "Human: What is the largest ocean on Earth?\n",
      "AI: Pacific Ocean\n",
      "Human: What is the smallest country in the world?\n",
      "AI: Vatican City\n",
      "Human: Who painted the Mona Lisa?\n",
      "AI: Leonardo da Vinci\n"
     ]
    }
   ],
   "source": [
    "few_shot_prompt = FewShotChatMessagePromptTemplate(\n",
    "    example_prompt=example_prompt,\n",
    "    examples=examples\n",
    ")\n",
    "\n",
    "print(few_shot_prompt.format())"
   ]
  },
  {
   "cell_type": "code",
   "execution_count": 3,
   "metadata": {},
   "outputs": [
    {
     "name": "stdout",
     "output_type": "stream",
     "text": [
      "Kuala Lumpur\n"
     ]
    }
   ],
   "source": [
    "from langchain_core.output_parsers import StrOutputParser\n",
    "final_prompt = ChatPromptTemplate.from_messages(\n",
    "    [\n",
    "        (\"system\", \"You only need to return a single answer without any explanation\"),\n",
    "        few_shot_prompt,\n",
    "        (\"human\", \"{input}\")\n",
    "    ]\n",
    ")\n",
    "\n",
    "model = ChatOpenAI()\n",
    "\n",
    "chain = final_prompt | model | StrOutputParser()\n",
    "\n",
    "response = chain.invoke({\n",
    "    \"input\": \"What is the capital of Malaysia?\"\n",
    "})\n",
    "\n",
    "print(response)"
   ]
  },
  {
   "cell_type": "code",
   "execution_count": null,
   "metadata": {},
   "outputs": [],
   "source": []
  }
 ],
 "metadata": {
  "kernelspec": {
   "display_name": "langchain-vector_db",
   "language": "python",
   "name": "python3"
  },
  "language_info": {
   "codemirror_mode": {
    "name": "ipython",
    "version": 3
   },
   "file_extension": ".py",
   "mimetype": "text/x-python",
   "name": "python",
   "nbconvert_exporter": "python",
   "pygments_lexer": "ipython3",
   "version": "3.10.12"
  }
 },
 "nbformat": 4,
 "nbformat_minor": 2
}
