{
 "cells": [
  {
   "cell_type": "markdown",
   "metadata": {},
   "source": [
    "# Fixed-Length Few-Shot\n"
   ]
  },
  {
   "cell_type": "code",
   "execution_count": 1,
   "metadata": {},
   "outputs": [],
   "source": [
    "from langchain_openai.chat_models import ChatOpenAI\n",
    "from langchain_core.prompts import FewShotChatMessagePromptTemplate, ChatPromptTemplate\n",
    "\n",
    "examples = [\n",
    "    {\n",
    "        \"question\": \"What is the capital of France?\",\n",
    "        \"answer\": \"Paris\"\n",
    "    },\n",
    "    {\n",
    "        \"question\": \"Who wrote the play 'Romeo and Juliet'?\",\n",
    "        \"answer\": \"William Shakespeare\"\n",
    "    },\n",
    "    {\n",
    "        \"question\": \"What is the chemical symbol for water?\",\n",
    "        \"answer\": \"H2O\"\n",
    "    },\n",
    "    {\n",
    "        \"question\": \"What is the largest planet in our solar system?\",\n",
    "        \"answer\": \"Jupiter\"\n",
    "    },\n",
    "    {\n",
    "        \"question\": \"What year did the Titanic sink?\",\n",
    "        \"answer\": \"1912\"\n",
    "    },\n",
    "    {\n",
    "        \"question\": \"What is the fastest land animal?\",\n",
    "        \"answer\": \"Cheetah\"\n",
    "    },\n",
    "    {\n",
    "        \"question\": \"Who was the first President of the United States?\",\n",
    "        \"answer\": \"George Washington\"\n",
    "    },\n",
    "    {\n",
    "        \"question\": \"What is the square root of 64?\",\n",
    "        \"answer\": \"8\"\n",
    "    },\n",
    "    {\n",
    "        \"question\": \"Which element has the atomic number 1?\",\n",
    "        \"answer\": \"Hydrogen\"\n",
    "    },\n",
    "    {\n",
    "        \"question\": \"What is the largest ocean on Earth?\",\n",
    "        \"answer\": \"Pacific Ocean\"\n",
    "    },\n",
    "    {\n",
    "        \"question\": \"What is the smallest country in the world?\",\n",
    "        \"answer\": \"Vatican City\"\n",
    "    },\n",
    "    {\n",
    "        \"question\": \"Who painted the Mona Lisa?\",\n",
    "        \"answer\": \"Leonardo da Vinci\"\n",
    "    }\n",
    "]\n",
    "\n",
    "\n",
    "example_prompt = ChatPromptTemplate.from_messages(\n",
    "    [\n",
    "        (\"human\", \"{question}\"),\n",
    "        (\"ai\", \"{answer}\")\n",
    "    ]\n",
    ")"
   ]
  },
  {
   "cell_type": "code",
   "execution_count": 2,
   "metadata": {},
   "outputs": [
    {
     "name": "stdout",
     "output_type": "stream",
     "text": [
      "Human: What is the capital of France?\n",
      "AI: Paris\n",
      "Human: Who wrote the play 'Romeo and Juliet'?\n",
      "AI: William Shakespeare\n",
      "Human: What is the chemical symbol for water?\n",
      "AI: H2O\n",
      "Human: What is the largest planet in our solar system?\n",
      "AI: Jupiter\n",
      "Human: What year did the Titanic sink?\n",
      "AI: 1912\n",
      "Human: What is the fastest land animal?\n",
      "AI: Cheetah\n",
      "Human: Who was the first President of the United States?\n",
      "AI: George Washington\n",
      "Human: What is the square root of 64?\n",
      "AI: 8\n",
      "Human: Which element has the atomic number 1?\n",
      "AI: Hydrogen\n",
      "Human: What is the largest ocean on Earth?\n",
      "AI: Pacific Ocean\n",
      "Human: What is the smallest country in the world?\n",
      "AI: Vatican City\n",
      "Human: Who painted the Mona Lisa?\n",
      "AI: Leonardo da Vinci\n"
     ]
    }
   ],
   "source": [
    "few_shot_prompt = FewShotChatMessagePromptTemplate(\n",
    "    example_prompt=example_prompt,\n",
    "    examples=examples\n",
    ")\n",
    "\n",
    "print(few_shot_prompt.format())"
   ]
  },
  {
   "cell_type": "code",
   "execution_count": 3,
   "metadata": {},
   "outputs": [
    {
     "name": "stdout",
     "output_type": "stream",
     "text": [
      "Kuala Lumpur\n"
     ]
    }
   ],
   "source": [
    "from langchain_core.output_parsers import StrOutputParser\n",
    "final_prompt = ChatPromptTemplate.from_messages(\n",
    "    [\n",
    "        (\"system\", \"You only need to return a single answer without any explanation\"),\n",
    "        few_shot_prompt,\n",
    "        (\"human\", \"{input}\")\n",
    "    ]\n",
    ")\n",
    "\n",
    "model = ChatOpenAI()\n",
    "\n",
    "chain = final_prompt | model | StrOutputParser()\n",
    "\n",
    "response = chain.invoke({\n",
    "    \"input\": \"What is the capital of Malaysia?\"\n",
    "})\n",
    "\n",
    "print(response)"
   ]
  },
  {
   "cell_type": "markdown",
   "metadata": {},
   "source": [
    "# Selecting Few-Shot Examples by Length\n"
   ]
  },
  {
   "cell_type": "code",
   "execution_count": 8,
   "metadata": {},
   "outputs": [],
   "source": [
    "from langchain_openai.chat_models import ChatOpenAI\n",
    "from langchain_core.messages import SystemMessage\n",
    "from langchain_core.prompts import PromptTemplate, FewShotPromptTemplate\n",
    "from langchain.prompts.example_selector import LengthBasedExampleSelector\n",
    "import tiktoken"
   ]
  },
  {
   "cell_type": "code",
   "execution_count": 9,
   "metadata": {},
   "outputs": [],
   "source": [
    "examples = [\n",
    "    {\n",
    "        \"input\": \"James\",\n",
    "        \"output\": \"James was a brilliant inventor who spent years designing a machine that could communicate with animals. One day, his machine finally worked, and he had a conversation with a wise old owl who shared secrets of the forest with him.\"\n",
    "    },\n",
    "    {\n",
    "        \"input\": \"Curry\",\n",
    "        \"output\": \"Curry was a talented chef known for his spicy dishes that people from all over the world traveled to taste. One evening, a mysterious customer challenged Curry to create the hottest dish imaginable, which led to a recipe that became legendary.\"\n",
    "    },\n",
    "    {\n",
    "        \"input\": \"Alice\",\n",
    "        \"output\": \"Alice discovered a hidden garden behind her grandmother's old house. Inside the garden, she found flowers that glowed in the dark and led her to a portal that transported her to a magical realm where she met talking animals and enchanted creatures.\"\n",
    "    },\n",
    "    {\n",
    "        \"input\": \"Bob\",\n",
    "        \"output\": \"Bob, an ordinary office worker, found a dusty old map in a forgotten drawer at work. Following the map, he embarked on an adventure that took him through dangerous jungles and across vast deserts, eventually leading him to a treasure that changed his life.\"\n",
    "    },\n",
    "    {\n",
    "        \"input\": \"Sarah\",\n",
    "        \"output\": \"Sarah was a scientist who dedicated her life to studying the stars. One night, she detected a signal from deep space that no one had ever heard before. Following the signal, she made contact with an alien civilization and became Earth's first ambassador to another world.\"\n",
    "    },\n",
    "    {\n",
    "        \"input\": \"Liam\",\n",
    "        \"output\": \"Liam was a skilled swordsman in a kingdom plagued by dragons. When a massive dragon threatened his village, Liam bravely faced the beast, defeating it with a clever trap he had devised using only his wits and his sword.\"\n",
    "    },\n",
    "    {\n",
    "        \"input\": \"Emma\",\n",
    "        \"output\": \"Emma was an explorer who had always been fascinated by the mysteries of the ocean. On one of her dives, she discovered an ancient underwater city and unlocked the secrets of a lost civilization that had once ruled the seas.\"\n",
    "    },\n",
    "    {\n",
    "        \"input\": \"Noah\",\n",
    "        \"output\": \"Noah was a young boy with a passion for building robots. One day, he created a robot with artificial intelligence that became his best friend. Together, they went on adventures, solving mysteries and helping people in their town.\"\n",
    "    },\n",
    "    {\n",
    "        \"input\": \"Sophia\",\n",
    "        \"output\": \"Sophia was a skilled archer living in a peaceful village. When her home was threatened by invaders, she rallied the villagers and led a defense, using her expert marksmanship to protect her people and drive away the enemy.\"\n",
    "    },\n",
    "    {\n",
    "        \"input\": \"Mason\",\n",
    "        \"output\": \"Mason was an architect who dreamed of building a city in the sky. After years of hard work and collaboration with engineers and scientists, he created floating islands that housed a beautiful, futuristic city that attracted people from all over the world.\"\n",
    "    }\n",
    "]\n",
    "\n",
    "\n",
    "example_prompt = PromptTemplate(\n",
    "    template=\"\"\"Character: {input} \\n Story: {output}\"\"\",\n",
    "    input_variables=[\"input\", \"output\"]\n",
    ")"
   ]
  },
  {
   "cell_type": "code",
   "execution_count": 16,
   "metadata": {},
   "outputs": [
    {
     "name": "stdout",
     "output_type": "stream",
     "text": [
      "Jordan was an aspiring musician with a deep connection to nature. While hiking one day, he stumbled upon a hidden cave deep in the forest. Inside the cave, he found an ancient flute made of mystical wood. When he played the flute, the forest came alive with the sound of animals singing and dancing to his music. Jordan soon realized that he had the power to communicate with the animals through his flute, and together they created beautiful melodies that echoed through the woods, bringing harmony to the creatures of the forest. Word of Jordan's unique gift spread far and wide, and people from all over came to listen to his enchanting music, feeling a sense of peace and unity with nature whenever they heard him play.\n"
     ]
    }
   ],
   "source": [
    "def num_tokens_from_string(string: str) -> int:\n",
    "    encoding = tiktoken.get_encoding(\"cl100k_base\")\n",
    "    num_tokens = len(encoding.encode(string))\n",
    "    return num_tokens\n",
    "\n",
    "\n",
    "example_selector = LengthBasedExampleSelector(\n",
    "    example_prompt=example_prompt,\n",
    "    examples=examples,\n",
    "    max_length=1000,\n",
    "    get_text_length=num_tokens_from_string\n",
    ")\n",
    "\n",
    "dynamic_prompt = FewShotPromptTemplate(\n",
    "    example_selector=example_selector,\n",
    "    example_prompt=example_prompt,\n",
    "    prefix=\"\"\"Generate the story for {character}, based on the list of Character/Story pair provided in the context\"\"\",\n",
    "    suffix=\"Character: {character} \\n Story:\",\n",
    "    input_variables=[\"character\"]\n",
    ")\n",
    "\n",
    "formatted_prompt = dynamic_prompt.format(character=\"Jordan\")\n",
    "\n",
    "model = ChatOpenAI()\n",
    "\n",
    "response = model.invoke([SystemMessage(content=formatted_prompt)])\n",
    "print(response.content)"
   ]
  },
  {
   "cell_type": "markdown",
   "metadata": {},
   "source": [
    "# Saving and Loading LLM Prompts\n"
   ]
  },
  {
   "cell_type": "code",
   "execution_count": 17,
   "metadata": {},
   "outputs": [
    {
     "name": "stdout",
     "output_type": "stream",
     "text": [
      "input_variables=['sentence'] template='Translate this sentence from English to Chinese.\\n        Sentence: {sentence}\\n    '\n"
     ]
    }
   ],
   "source": [
    "from langchain_core.prompts import PromptTemplate, load_prompt\n",
    "\n",
    "prompt = PromptTemplate(\n",
    "    template=\"\"\"Translate this sentence from English to Chinese.\n",
    "        Sentence: {sentence}\n",
    "    \"\"\",\n",
    "    input_variables=[\"sentence\"]\n",
    ")\n",
    "\n",
    "prompt.save(\"translation_prompt.json\")\n",
    "\n",
    "prompt = load_prompt(\"translation_prompt.json\")\n",
    "print(prompt)"
   ]
  },
  {
   "cell_type": "code",
   "execution_count": null,
   "metadata": {},
   "outputs": [],
   "source": []
  }
 ],
 "metadata": {
  "kernelspec": {
   "display_name": "langchain-vector_db",
   "language": "python",
   "name": "python3"
  },
  "language_info": {
   "codemirror_mode": {
    "name": "ipython",
    "version": 3
   },
   "file_extension": ".py",
   "mimetype": "text/x-python",
   "name": "python",
   "nbconvert_exporter": "python",
   "pygments_lexer": "ipython3",
   "version": "3.10.12"
  }
 },
 "nbformat": 4,
 "nbformat_minor": 2
}
