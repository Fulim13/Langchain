{
 "cells": [
  {
   "cell_type": "code",
   "execution_count": 27,
   "metadata": {},
   "outputs": [
    {
     "name": "stdout",
     "output_type": "stream",
     "text": [
      "[Person(name='Happy Lim', age=22, location='Malaysia', hobby='play basketball')]\n"
     ]
    }
   ],
   "source": [
    "from langchain_openai.chat_models import ChatOpenAI\n",
    "from langchain_core.prompts import ChatPromptTemplate\n",
    "from langchain_core.utils.function_calling import convert_to_openai_tool\n",
    "from langchain_core.output_parsers.openai_tools import PydanticToolsParser\n",
    "from pydantic.v1 import BaseModel, Field\n",
    "\n",
    "# Create prompt\n",
    "template = \"\"\"\n",
    "Extract the relevant entities with their properties\n",
    "And for the property that is not present and not required by the function parameter, Do not include in the output\n",
    "\"\"\"\n",
    "\n",
    "prompt = ChatPromptTemplate.from_messages(\n",
    "    {(\"system\", template), (\"user\", \"{input}\")}\n",
    ")\n",
    "\n",
    "# Create model\n",
    "model = ChatOpenAI()\n",
    "\n",
    "# Create schema\n",
    "\n",
    "\n",
    "class Person(BaseModel):\n",
    "    name: str\n",
    "    age: int\n",
    "    location: str\n",
    "    hobby: str\n",
    "\n",
    "\n",
    "# Create tools\n",
    "pydantic_schemas = [Person]\n",
    "tools = [convert_to_openai_tool(p) for p in pydantic_schemas]\n",
    "\n",
    "# Bind the tools to the model\n",
    "model = model.bind_tools(tools=tools)\n",
    "\n",
    "# Create the parser\n",
    "parser = PydanticToolsParser(tools=pydantic_schemas)\n",
    "\n",
    "# Create LCEL Chain\n",
    "chain = prompt | model | parser\n",
    "\n",
    "# Invoke\n",
    "response = chain.invoke({\n",
    "    \"input\": \"Happy Lim is 22 year old, and He lived in Malaysia and he like to play basketball\"\n",
    "})\n",
    "\n",
    "print(response)"
   ]
  },
  {
   "cell_type": "code",
   "execution_count": null,
   "metadata": {},
   "outputs": [],
   "source": []
  }
 ],
 "metadata": {
  "kernelspec": {
   "display_name": "langchain-vector_db",
   "language": "python",
   "name": "python3"
  },
  "language_info": {
   "codemirror_mode": {
    "name": "ipython",
    "version": 3
   },
   "file_extension": ".py",
   "mimetype": "text/x-python",
   "name": "python",
   "nbconvert_exporter": "python",
   "pygments_lexer": "ipython3",
   "version": "3.10.12"
  }
 },
 "nbformat": 4,
 "nbformat_minor": 2
}
