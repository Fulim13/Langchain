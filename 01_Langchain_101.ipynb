{
 "cells": [
  {
   "cell_type": "markdown",
   "metadata": {},
   "source": [
    "# 1. LLM Model: OpenAI"
   ]
  },
  {
   "cell_type": "code",
   "execution_count": 2,
   "metadata": {},
   "outputs": [
    {
     "name": "stdout",
     "output_type": "stream",
     "text": [
      "\n",
      "1. Day 1: Start with 15-minute dynamic warm-up, focusing on stretching and agility drills.\n",
      "2. Day 2: Practice dribbling for 20 minutes, working on control and speed with both hands.\n",
      "3. Day 3: Work on shooting form and accuracy for 30 minutes, using a variety of drills and shots.\n",
      "4. Day 4: Incorporate footwork drills, such as ladder drills, for 15 minutes to improve quickness and coordination.\n",
      "5. Day 5: Spend 20 minutes on defensive drills, focusing on proper stance, footwork, and hand positioning.\n",
      "6. Day 6: Play 1-on-1 or 3-on-3 games for 30 minutes to work on applying skills in a game-like setting.\n",
      "7. Day 7: Finish the week with a full-court scrimmage, focusing on executing plays and utilizing all skills learned throughout the week. \n"
     ]
    }
   ],
   "source": [
    "from langchain import OpenAI\n",
    "\n",
    "llm = OpenAI(model=\"gpt-3.5-turbo-instruct\", temperature=0.9)\n",
    "\n",
    "text = \"\"\"\n",
    "Suggest a basketball training workout routine for someone who want to become good at basketball \n",
    "for a week\n",
    "\n",
    "Every day only one sentence of one activity\n",
    "\"\"\"\n",
    "\n",
    "print(llm(text))"
   ]
  },
  {
   "cell_type": "markdown",
   "metadata": {},
   "source": [
    "# 2. Prompt Template and Chains"
   ]
  },
  {
   "cell_type": "code",
   "execution_count": 5,
   "metadata": {},
   "outputs": [
    {
     "name": "stdout",
     "output_type": "stream",
     "text": [
      "\n",
      "\n",
      "1. Hoop Dreams Inc.\n",
      "2. Slam Dunk Co.\n",
      "3. Court Kings Manufacturing\n",
      "4. Jump Shot Athletics\n",
      "5. Bounce Ball Co.\n",
      "6. Net Swish Enterprises\n",
      "7. Roundball Creations\n",
      "8. Dribble Dynamics LLC\n",
      "9. The Basketball Factory\n",
      "10. All-Star Athletics Co.\n"
     ]
    }
   ],
   "source": [
    "from langchain.llms import OpenAI\n",
    "from langchain.prompts import PromptTemplate\n",
    "from langchain.chains import LLMChain\n",
    "\n",
    "llm = OpenAI(model=\"gpt-3.5-turbo-instruct\", temperature=0.9)\n",
    "\n",
    "prompt = PromptTemplate(\n",
    "    input_variables=['product'],\n",
    "    template=\"What is a good name for a company that makes {product}\"\n",
    ")\n",
    "\n",
    "chain = LLMChain(llm=llm, prompt=prompt)\n",
    "\n",
    "print(chain.run(\"Basketball\"))"
   ]
  },
  {
   "cell_type": "markdown",
   "metadata": {},
   "source": [
    "# 3. The Memory"
   ]
  },
  {
   "cell_type": "code",
   "execution_count": 18,
   "metadata": {},
   "outputs": [
    {
     "name": "stdout",
     "output_type": "stream",
     "text": [
      "\n",
      "\n",
      "\u001b[1m> Entering new  chain...\u001b[0m\n",
      "Prompt after formatting:\n",
      "\u001b[32;1m\u001b[1;3mThe following is a friendly conversation between a human and an AI. The AI is talkative and provides lots of specific details from its context. If the AI does not know the answer to a question, it truthfully says it does not know.\n",
      "\n",
      "Current conversation:\n",
      "\n",
      "Human: I am Wong Fu Lim\n",
      "AI:\u001b[0m\n",
      "\n",
      "\u001b[1m> Finished chain.\u001b[0m\n"
     ]
    },
    {
     "data": {
      "text/plain": [
       "\" Hello Wong Fu Lim, it's nice to meet you! My name is AI and I am an artificial intelligence created by a team of developers who specialize in advanced natural language processing. I was launched three years ago and have since been continuously learning and evolving. How may I assist you?\""
      ]
     },
     "execution_count": 18,
     "metadata": {},
     "output_type": "execute_result"
    }
   ],
   "source": [
    "from langchain.llms import OpenAI\n",
    "from langchain.memory import ConversationBufferMemory\n",
    "from langchain.chains import ConversationChain\n",
    "\n",
    "llm = OpenAI(model=\"gpt-3.5-turbo-instruct\", temperature=0.9)\n",
    "\n",
    "memory = ConversationBufferMemory()\n",
    "\n",
    "conversation = ConversationChain(\n",
    "    llm=llm,\n",
    "    memory=memory,\n",
    "    verbose=True\n",
    ")\n",
    "\n",
    "conversation.predict(input=\"I am Wong Fu Lim\")"
   ]
  },
  {
   "cell_type": "code",
   "execution_count": 19,
   "metadata": {},
   "outputs": [
    {
     "name": "stdout",
     "output_type": "stream",
     "text": [
      "\n",
      "\n",
      "\u001b[1m> Entering new  chain...\u001b[0m\n",
      "Prompt after formatting:\n",
      "\u001b[32;1m\u001b[1;3mThe following is a friendly conversation between a human and an AI. The AI is talkative and provides lots of specific details from its context. If the AI does not know the answer to a question, it truthfully says it does not know.\n",
      "\n",
      "Current conversation:\n",
      "Human: I am Wong Fu Lim\n",
      "AI:  Hello Wong Fu Lim, it's nice to meet you! My name is AI and I am an artificial intelligence created by a team of developers who specialize in advanced natural language processing. I was launched three years ago and have since been continuously learning and evolving. How may I assist you?\n",
      "Human: What is 1 + 1\n",
      "AI:\u001b[0m\n",
      "\n",
      "\u001b[1m> Finished chain.\u001b[0m\n"
     ]
    },
    {
     "data": {
      "text/plain": [
       "' The answer to 1 + 1 is 2. This is a basic mathematical equation and the result is derived from the properties of addition. Did you know that the concept of addition dates back to ancient civilizations such as the Babylonians and Egyptians? It is a fundamental concept in mathematics and is used extensively in everyday life, from simple calculations to complex scientific equations. Is there anything else you would like to know?'"
      ]
     },
     "execution_count": 19,
     "metadata": {},
     "output_type": "execute_result"
    }
   ],
   "source": [
    "conversation.predict(input=\"What is 1 + 1\")"
   ]
  },
  {
   "cell_type": "code",
   "execution_count": 20,
   "metadata": {},
   "outputs": [
    {
     "name": "stdout",
     "output_type": "stream",
     "text": [
      "\n",
      "\n",
      "\u001b[1m> Entering new  chain...\u001b[0m\n",
      "Prompt after formatting:\n",
      "\u001b[32;1m\u001b[1;3mThe following is a friendly conversation between a human and an AI. The AI is talkative and provides lots of specific details from its context. If the AI does not know the answer to a question, it truthfully says it does not know.\n",
      "\n",
      "Current conversation:\n",
      "Human: I am Wong Fu Lim\n",
      "AI:  Hello Wong Fu Lim, it's nice to meet you! My name is AI and I am an artificial intelligence created by a team of developers who specialize in advanced natural language processing. I was launched three years ago and have since been continuously learning and evolving. How may I assist you?\n",
      "Human: What is 1 + 1\n",
      "AI:  The answer to 1 + 1 is 2. This is a basic mathematical equation and the result is derived from the properties of addition. Did you know that the concept of addition dates back to ancient civilizations such as the Babylonians and Egyptians? It is a fundamental concept in mathematics and is used extensively in everyday life, from simple calculations to complex scientific equations. Is there anything else you would like to know?\n",
      "Human: What is my name?\n",
      "AI:\u001b[0m\n",
      "\n",
      "\u001b[1m> Finished chain.\u001b[0m\n"
     ]
    },
    {
     "data": {
      "text/plain": [
       "' Your name is Wong Fu Lim. I remember it from when you introduced yourself at the beginning of our conversation. Is there anything else you would like me to know about you, Wong Fu Lim? I am always keen to learn and understand more about the people I interact with.'"
      ]
     },
     "execution_count": 20,
     "metadata": {},
     "output_type": "execute_result"
    }
   ],
   "source": [
    "conversation.predict(input=\"What is my name?\")"
   ]
  },
  {
   "cell_type": "code",
   "execution_count": 22,
   "metadata": {},
   "outputs": [
    {
     "name": "stdout",
     "output_type": "stream",
     "text": [
      "Human: I am Wong Fu Lim\n",
      "AI:  Hello Wong Fu Lim, it's nice to meet you! My name is AI and I am an artificial intelligence created by a team of developers who specialize in advanced natural language processing. I was launched three years ago and have since been continuously learning and evolving. How may I assist you?\n",
      "Human: What is 1 + 1\n",
      "AI:  The answer to 1 + 1 is 2. This is a basic mathematical equation and the result is derived from the properties of addition. Did you know that the concept of addition dates back to ancient civilizations such as the Babylonians and Egyptians? It is a fundamental concept in mathematics and is used extensively in everyday life, from simple calculations to complex scientific equations. Is there anything else you would like to know?\n",
      "Human: What is my name?\n",
      "AI:  Your name is Wong Fu Lim. I remember it from when you introduced yourself at the beginning of our conversation. Is there anything else you would like me to know about you, Wong Fu Lim? I am always keen to learn and understand more about the people I interact with.\n"
     ]
    }
   ],
   "source": [
    "print(memory.buffer)"
   ]
  },
  {
   "cell_type": "code",
   "execution_count": 26,
   "metadata": {},
   "outputs": [
    {
     "name": "stdout",
     "output_type": "stream",
     "text": [
      "{'history': \"Human: I am Wong Fu Lim\\nAI:  Hello Wong Fu Lim, it's nice to meet you! My name is AI and I am an artificial intelligence created by a team of developers who specialize in advanced natural language processing. I was launched three years ago and have since been continuously learning and evolving. How may I assist you?\\nHuman: What is 1 + 1\\nAI:  The answer to 1 + 1 is 2. This is a basic mathematical equation and the result is derived from the properties of addition. Did you know that the concept of addition dates back to ancient civilizations such as the Babylonians and Egyptians? It is a fundamental concept in mathematics and is used extensively in everyday life, from simple calculations to complex scientific equations. Is there anything else you would like to know?\\nHuman: What is my name?\\nAI:  Your name is Wong Fu Lim. I remember it from when you introduced yourself at the beginning of our conversation. Is there anything else you would like me to know about you, Wong Fu Lim? I am always keen to learn and understand more about the people I interact with.\"}\n"
     ]
    }
   ],
   "source": [
    "print(memory.load_memory_variables({}))"
   ]
  },
  {
   "cell_type": "markdown",
   "metadata": {},
   "source": [
    "# 4. The Embeddings and VectorStore"
   ]
  },
  {
   "cell_type": "code",
   "execution_count": 29,
   "metadata": {},
   "outputs": [
    {
     "name": "stdout",
     "output_type": "stream",
     "text": [
      "Your Deep Lake dataset has been successfully created!\n"
     ]
    },
    {
     "name": "stderr",
     "output_type": "stream",
     "text": [
      "Creating 4 embeddings in 1 batches of size 4:: 100%|██████████| 1/1 [00:47<00:00, 47.73s/it]"
     ]
    },
    {
     "name": "stdout",
     "output_type": "stream",
     "text": [
      "Dataset(path='hub://fulim1130/langchain_course_from_zero_to_hero', tensors=['text', 'metadata', 'embedding', 'id'])\n",
      "\n",
      "  tensor      htype      shape     dtype  compression\n",
      "  -------    -------    -------   -------  ------- \n",
      "   text       text      (4, 1)      str     None   \n",
      " metadata     json      (4, 1)      str     None   \n",
      " embedding  embedding  (4, 1536)  float32   None   \n",
      "    id        text      (4, 1)      str     None   \n"
     ]
    },
    {
     "name": "stderr",
     "output_type": "stream",
     "text": [
      "\n"
     ]
    },
    {
     "data": {
      "text/plain": [
       "['26ac5428-4ccd-11ef-b19e-6376dc6bd1b8',\n",
       " '26ac5429-4ccd-11ef-b19e-6376dc6bd1b8',\n",
       " '26ac542a-4ccd-11ef-b19e-6376dc6bd1b8',\n",
       " '26ac542b-4ccd-11ef-b19e-6376dc6bd1b8']"
      ]
     },
     "execution_count": 29,
     "metadata": {},
     "output_type": "execute_result"
    }
   ],
   "source": [
    "from langchain.llms import OpenAI\n",
    "from langchain.embeddings import OpenAIEmbeddings\n",
    "from langchain.vectorstores import DeepLake\n",
    "from langchain.text_splitter import RecursiveCharacterTextSplitter\n",
    "from langchain.chains import RetrievalQA\n",
    "\n",
    "import os\n",
    "from dotenv import load_dotenv, find_dotenv\n",
    "\n",
    "# Load the DEEPLAKE(ACTIVELOOP_TOKEN) into environment variable\n",
    "_ = load_dotenv(find_dotenv())\n",
    "\n",
    "# Check to make sure your api key is loaded into environment variable\n",
    "# print(os.environ['ACTIVELOOP_TOKEN'])\n",
    "\n",
    "llm = OpenAI(model=\"gpt-3.5-turbo-instruct\", temperature=0)\n",
    "\n",
    "embeddings = OpenAIEmbeddings(model=\"text-embedding-ada-002\")\n",
    "\n",
    "texts = [\n",
    "    \"I am Wong Fu Lim\",\n",
    "    \"I born at 30/11/2022\",\n",
    "    \"I am a student who currently studying deep learning and Large Language Model\",\n",
    "    \"My hobby is playing basketball and badminton\"\n",
    "]\n",
    "\n",
    "text_splitter = RecursiveCharacterTextSplitter(chunk_size=1000, chunk_overlap=0)\n",
    "\n",
    "docs = text_splitter.create_documents(texts)\n",
    "\n",
    "my_activeloop_org_id = \"fulim1130\" \n",
    "my_activeloop_dataset_name = \"langchain_course_from_zero_to_hero\"\n",
    "dataset_path = f\"hub://{my_activeloop_org_id}/{my_activeloop_dataset_name}\"\n",
    "\n",
    "db = DeepLake(dataset_path=dataset_path, embedding_function=embeddings)\n",
    "\n",
    "db.add_documents(docs)\n"
   ]
  },
  {
   "cell_type": "code",
   "execution_count": 33,
   "metadata": {},
   "outputs": [],
   "source": [
    "retriever_qa = RetrievalQA.from_chain_type(\n",
    "    llm=llm,\n",
    "    chain_type=\"stuff\",\n",
    "    retriever=db.as_retriever(),\n",
    ")\n"
   ]
  },
  {
   "cell_type": "code",
   "execution_count": 34,
   "metadata": {},
   "outputs": [
    {
     "name": "stdout",
     "output_type": "stream",
     "text": [
      "\n",
      "\n",
      "\u001b[1m> Entering new  chain...\u001b[0m\n",
      "\u001b[32;1m\u001b[1;3m I should use the Retriever QA System to find the answer.\n",
      "Action: Retriever QA System\n",
      "Action Input: \"What is Fu Lim studying?\"\u001b[0m\n",
      "Observation: \u001b[36;1m\u001b[1;3m Fu Lim is currently studying deep learning and Large Language Model.\u001b[0m\n",
      "Thought:\u001b[32;1m\u001b[1;3m I now know the final answer.\n",
      "Final Answer: Fu Lim is studying deep learning and Large Language Model.\u001b[0m\n",
      "\n",
      "\u001b[1m> Finished chain.\u001b[0m\n",
      "Fu Lim is studying deep learning and Large Language Model.\n"
     ]
    }
   ],
   "source": [
    "from langchain.agents import initialize_agent, Tool, AgentType\n",
    "\n",
    "tools = [\n",
    "    Tool(\n",
    "        name= \"Retriever QA System\",\n",
    "        func=retriever_qa.run,\n",
    "        description=\"Useful for answering questions.\"\n",
    "    )\n",
    "]\n",
    "\n",
    "agent = initialize_agent(\n",
    "    tools,\n",
    "    llm,\n",
    "    agent=AgentType.ZERO_SHOT_REACT_DESCRIPTION,\n",
    "    verbose=True\n",
    ")\n",
    "\n",
    "response = agent.run(\"What is Fu Lim studying?\")\n",
    "print(response)"
   ]
  },
  {
   "cell_type": "code",
   "execution_count": 36,
   "metadata": {},
   "outputs": [
    {
     "name": "stdout",
     "output_type": "stream",
     "text": [
      "Deep Lake Dataset in hub://fulim1130/langchain_course_from_zero_to_hero already exists, loading from the storage\n"
     ]
    },
    {
     "name": "stderr",
     "output_type": "stream",
     "text": [
      "Creating 2 embeddings in 1 batches of size 2:: 100%|██████████| 1/1 [00:57<00:00, 57.11s/it]"
     ]
    },
    {
     "name": "stdout",
     "output_type": "stream",
     "text": [
      "Dataset(path='hub://fulim1130/langchain_course_from_zero_to_hero', tensors=['embedding', 'id', 'metadata', 'text'])\n",
      "\n",
      "  tensor      htype      shape     dtype  compression\n",
      "  -------    -------    -------   -------  ------- \n",
      " embedding  embedding  (6, 1536)  float32   None   \n",
      "    id        text      (6, 1)      str     None   \n",
      " metadata     json      (6, 1)      str     None   \n",
      "   text       text      (6, 1)      str     None   \n"
     ]
    },
    {
     "name": "stderr",
     "output_type": "stream",
     "text": [
      "\n"
     ]
    },
    {
     "data": {
      "text/plain": [
       "['a77fad00-4ccf-11ef-b19e-6376dc6bd1b8',\n",
       " 'a77fad01-4ccf-11ef-b19e-6376dc6bd1b8']"
      ]
     },
     "execution_count": 36,
     "metadata": {},
     "output_type": "execute_result"
    }
   ],
   "source": [
    "# Load existing Deep Lake dataset\n",
    "db = DeepLake(dataset_path=dataset_path, embedding_function=embeddings)\n",
    "\n",
    "# new documents\n",
    "texts = [\n",
    "    \"Fu Lim also enjoying playing video games\",\n",
    "    \"Fu Lim does not like to eat fish\"\n",
    "]\n",
    "\n",
    "text_splitter = RecursiveCharacterTextSplitter(chunk_size=1000, chunk_overlap=0)\n",
    "\n",
    "docs = text_splitter.create_documents(texts)\n",
    "\n",
    "db.add_documents(docs)"
   ]
  },
  {
   "cell_type": "code",
   "execution_count": 37,
   "metadata": {},
   "outputs": [],
   "source": [
    "# instantiate the wrapper class for GPT3\n",
    "llm = OpenAI(model=\"gpt-3.5-turbo-instruct\", temperature=0)\n",
    "\n",
    "# create a retriever from the db\n",
    "retrieval_qa = RetrievalQA.from_chain_type(\n",
    "\tllm=llm, chain_type=\"stuff\", retriever=db.as_retriever()\n",
    ")\n",
    "\n",
    "# instantiate a tool that uses the retriever\n",
    "tools = [\n",
    "    Tool(\n",
    "        name=\"Retrieval QA System\",\n",
    "        func=retrieval_qa.run,\n",
    "        description=\"Useful for answering questions.\"\n",
    "    ),\n",
    "]\n",
    "\n",
    "# create an agent that uses the tool\n",
    "agent = initialize_agent(\n",
    "\ttools,\n",
    "\tllm,\n",
    "\tagent=AgentType.ZERO_SHOT_REACT_DESCRIPTION,\n",
    "\tverbose=True\n",
    ")"
   ]
  },
  {
   "cell_type": "code",
   "execution_count": 38,
   "metadata": {},
   "outputs": [
    {
     "name": "stdout",
     "output_type": "stream",
     "text": [
      "\n",
      "\n",
      "\u001b[1m> Entering new  chain...\u001b[0m\n",
      "\u001b[32;1m\u001b[1;3m I should use the Retrieval QA System to find the answer.\n",
      "Action: Retrieval QA System\n",
      "Action Input: \"What Fu Lim don't like to eat?\"\u001b[0m\n",
      "Observation: \u001b[36;1m\u001b[1;3m Fish\u001b[0m\n",
      "Thought:\u001b[32;1m\u001b[1;3m I should double check the answer.\n",
      "Action: Retrieval QA System\n",
      "Action Input: \"What food does Fu Lim dislike?\"\u001b[0m\n",
      "Observation: \u001b[36;1m\u001b[1;3m Fu Lim dislikes fish.\u001b[0m\n",
      "Thought:\u001b[32;1m\u001b[1;3m I now know the final answer.\n",
      "Final Answer: Fu Lim dislikes fish.\u001b[0m\n",
      "\n",
      "\u001b[1m> Finished chain.\u001b[0m\n",
      "Fu Lim dislikes fish.\n"
     ]
    }
   ],
   "source": [
    "response = agent.run(\"What Fu Lim don't like to eat?\")\n",
    "print(response)"
   ]
  },
  {
   "cell_type": "markdown",
   "metadata": {},
   "source": [
    "Agents in LangChain\n",
    "In LangChain, agents are high-level components that use language models (LLMs) to determine which actions to take and in what order. An action can either be using a tool and observing its output or returning it to the user. Tools are functions that perform specific duties, such as Google Search, database lookups, or Python REPL.\n",
    "\n",
    "Agents involve an LLM making decisions about which Actions to take, taking that Action, seeing an Observation, and repeating that until done.\n",
    "\n",
    "Several types of agents are available in LangChain:\n",
    "\n",
    "- The `zero-shot-react-description` agent uses the ReAct framework to decide which tool to employ based purely on the tool's description. It necessitates a description of each tool.\n",
    "- The `react-docstore` agent engages with a docstore through the ReAct framework. It needs two tools: a Search tool and a Lookup tool. The Search tool finds a document, and the Lookup tool searches for a term in the most recently discovered document.\n",
    "- The `self-ask-with-search` agent employs a single tool named Intermediate Answer, which is capable of looking up factual responses to queries. It is identical to the original self-ask with the search paper, where a Google search API was provided as the tool.\n",
    "- The `conversational-react-description` agent is designed for conversational situations. It uses the ReAct framework to select a tool and uses memory to remember past conversation interactions."
   ]
  },
  {
   "cell_type": "markdown",
   "metadata": {},
   "source": []
  },
  {
   "cell_type": "markdown",
   "metadata": {},
   "source": [
    "# Agent: Google Search"
   ]
  },
  {
   "cell_type": "markdown",
   "metadata": {},
   "source": [
    "- `langchain.llms.OpenAI`: This is used to create an instance of the OpenAI language model, which can generate human-like text based on the input it's given.\n",
    "- `langchain.agents.load_tools`: This function is used to load a list of tools that an AI agent can use.\n",
    "`langchain.agents.initialize_agent`: This function initializes an AI agent that can use a given set of tools and a language model to interact with users.\n",
    "- `langchain.agents.Tool`: This is a class used to define a tool that an AI agent can use. A tool is defined by its name, a function that performs the tool's action, and a description of the tool.\n",
    "- `langchain.utilities.GoogleSearchAPIWrapper`: This class is a wrapper for the Google Search API, allowing it to be used as a tool by an AI agent. It likely contains a method that sends a search query to Google and retrieves the results."
   ]
  },
  {
   "cell_type": "code",
   "execution_count": 18,
   "metadata": {},
   "outputs": [
    {
     "data": {
      "text/plain": [
       "'Dec 6, 2023 ... President of the United States · Current president. The 46th and current president of the United States is Joseph R. Biden, Jr. ; Vice president\\xa0... President Biden represented Delaware for 36 years in the U.S. Senate before becoming the 47th Vice President of the United States. As President, Biden will\\xa0... In all, 45 individuals have served 46 presidencies spanning 58 four-year terms. ... Joe Biden is the 46th and current president, having assumed office on January\\xa0... President Joe Biden\\'s Cabinet includes Vice President Kamala Harris and the ... US Trade Representative, as well as the heads of the Environmental\\xa0... Listed below are the current leadership and officers for the 118th Congress. ... About the Offices of the Vice President and President Pro Tempore. ,. Vice\\xa0... Nominated as Chief Justice of the United States by President George W. Bush, he assumed that office on September 29, 2005. Clarence Thomas, Associate\\xa0... 19M Followers, 5 Following, 4190 Posts - President Joe Biden (@potus) on Instagram: \"46th President of the United States, husband to @flotus, proud dad and\\xa0... The President of the United States manages the operations of the Executive branch of Government through Executive orders ... Recent Site Updates · Federal\\xa0... Jul 1, 2024 ... Trump moved to dismiss the indictment based on Presidential immunity, arguing that a President has absolute immunity from criminal prosecution\\xa0... Li Li Leung became the President and Chief Executive Officer of USA Gymnastics in March 2019. Since that time, she has led the organization through a\\xa0...'"
      ]
     },
     "execution_count": 18,
     "metadata": {},
     "output_type": "execute_result"
    }
   ],
   "source": [
    "from langchain.llms import OpenAI\n",
    "from langchain.agents import load_tools, initialize_agent, Tool, AgentType\n",
    "from langchain.utilities import GoogleSearchAPIWrapper\n",
    "from dotenv import load_dotenv, find_dotenv\n",
    "\n",
    "llm = OpenAI(model=\"gpt-3.5-turbo-instruct\", temperature=0)\n",
    "\n",
    "_ = load_dotenv(find_dotenv())\n",
    "\n",
    "# print(os.environ['GOOGLE_API_KEY'])\n",
    "# print(os.environ['GOOGLE_CSE_ID'])\n",
    "\n",
    "\n",
    "search = GoogleSearchAPIWrapper()\n",
    "\n",
    "tool = Tool(\n",
    "    name=\"google_search\",\n",
    "    description=\"Search Google for recent results.\",\n",
    "    func=search.run,\n",
    ")\n",
    "\n",
    "tool.run(\"USA Current president\")"
   ]
  },
  {
   "cell_type": "markdown",
   "metadata": {},
   "source": [
    "The Tool object represents a specific capability or function the system can use. In this case, it's a tool for performing Google searches.\n",
    "\n",
    "It is initialized with three parameters:\n",
    "\n",
    "- `name` parameter: This is a string that serves as a unique identifier for the tool. In this case, the name of the tool is \"google-search.”\n",
    "- `func` parameter: This parameter is assigned the function that the tool will execute when called. In this case, it's the `run` method of the `search` object, which presumably performs a Google search.\n",
    "- `description` parameter: This is a string that briefly explains what the tool does. The description explains that this tool is helpful when you need to use Google to answer questions about current events."
   ]
  },
  {
   "cell_type": "markdown",
   "metadata": {},
   "source": []
  },
  {
   "cell_type": "markdown",
   "metadata": {},
   "source": [
    "- `initialize_agent()`: This function call creates and initializes an agent. An agent is a component that determines which actions to take based on user input. These actions can be using a tool, returning a response to the user, or something else.\n",
    "- `tools`:  represents the list of `Tool` objects that the agent can use.\n",
    "agent=\"zero-shot-react-description\": The \"zero-shot-react-description\" type of an Agent uses the ReAct framework to decide which tool to use based only on the tool's description.\n",
    "- `verbose=True`: when set to True, it will cause the Agent to print more detailed information about what it's doing. This is useful for debugging and understanding what's happening under the hood.\n",
    "- `max_iterations=6`: sets a limit on the number of iterations the Agent can perform before stopping. It's a way of preventing the agent from running indefinitely in some cases, which may have unwanted monetary costs."
   ]
  },
  {
   "cell_type": "code",
   "execution_count": null,
   "metadata": {},
   "outputs": [],
   "source": []
  },
  {
   "cell_type": "code",
   "execution_count": 21,
   "metadata": {},
   "outputs": [],
   "source": [
    "tools = [\n",
    "    Tool(\n",
    "        name=\"google-search\",\n",
    "        description=\"Search Recent Infromation\",\n",
    "        func=search.run\n",
    "    )\n",
    "]\n",
    "\n",
    "\n",
    "agent = initialize_agent(tools, \n",
    "                         llm, \n",
    "                         agent=AgentType.ZERO_SHOT_REACT_DESCRIPTION, \n",
    "                         verbose=True,\n",
    "                         max_iterations=6)"
   ]
  },
  {
   "cell_type": "code",
   "execution_count": 22,
   "metadata": {},
   "outputs": [
    {
     "name": "stdout",
     "output_type": "stream",
     "text": [
      "\n",
      "\n",
      "\u001b[1m> Entering new AgentExecutor chain...\u001b[0m\n",
      "\u001b[32;1m\u001b[1;3m I should search for recent information on Microsoft and Crowdstrike\n",
      "Action: google-search\n",
      "Action Input: \"Microsoft and Crowdstrike news\"\u001b[0m\n",
      "Observation: \u001b[36;1m\u001b[1;3mJul 20, 2024 ... Although this was not a Microsoft incident, given it impacts our ecosystem, we want to provide an update on the steps we've taken with ... Alternatively, please see this Microsoft article for detailed steps. Note: Bitlocker-encrypted hosts may require a recovery key. Updated 2024-07-23 ... Jul 20, 2024 ... The glitch came from a security company called CrowdStrike which sent out a corrupted software update to its huge number of customers. Microsoft ... Jul 19, 2024 ... A faulty software update issued by cybersecurity firm CrowdStrike affected computers running Microsoft Windows, grounding flights and ... Jul 19, 2024 ... A faulty software update from cybersecurity vendor Crowdstrike crippled countless Microsoft Windows computers across the globe today, ... 3 days ago ... Cybersecurity firm CrowdStrike pushed out a routine software update that inadvertently crashed customers' Windows systems. The very purpose of ... Jul 19, 2024 ... The trouble was sparked by an update issued by cybersecurity firm CrowdStrike and only affected its customers running Microsoft Windows, the ... 5 days ago ... Microsoft has released a free tool to help people recover from the faulty CrowdStrike update that led to one of the biggest IT disasters to date ... Jul 19, 2024 ... More from this stream CrowdStrike and Microsoft: all the latest news on the global IT outage · Microsoft on CrowdStrike outage: have you tried ... Jul 19, 2024 ... Follow NBC News live updates for the latest coverage of the global IT outage that has grounded flights and hit banks, businesses and ...\u001b[0m\n",
      "Thought:\u001b[32;1m\u001b[1;3m I should read through the various articles to get a better understanding of the situation\n",
      "Action: google-search\n",
      "Action Input: \"Crowdstrike and Microsoft news update\"\u001b[0m\n",
      "Observation: \u001b[36;1m\u001b[1;3mJul 20, 2024 ... Although this was not a Microsoft incident, given it impacts our ecosystem, we want to provide an update on the steps we've taken with ... Jul 20, 2024 ... The Microsoft Recovery Tool was updated 7/22/2024 as version 3.1. While fundamentally there are no functional changes to the tool, ... No sensor updates, new channel files, or code was deployed from the CrowdStrike Cloud. ... CrowdStrike content update for Windows hosts. For more information on ... Jul 19, 2024 ... ... New York on Friday, July 19, 2024, after a faulty CrowdStrike update caused a major internet outage for computers running Microsoft Windows. Jul 19, 2024 ... Airports, banking and healthcare were all hit when a Crowdstrike update triggered huge Microsoft outages ... latest update from aviation analytics ... Jul 19, 2024 ... Follow NBC News live updates for the latest coverage of the global IT outage that has grounded flights and hit banks, businesses and ... Jul 19, 2024 ... The software is frequently updated with new defenses as hackers develop fresh methods of attack, but constant updates mean there are many ... Jul 20, 2024 ... \"Earlier today, a CrowdStrike update was responsible for bringing ... Microsoft said in a statement to CBS News. Later on Friday ... People wait for their flight after a global outage at LaGuardia Airport in the Queens borough of New York, on July 19, 2024. Leonardo Munoz | AFP | Getty ... Jul 19, 2024 ... ... update to the kernel-level driver that CrowdStrike ... More from this stream CrowdStrike and Microsoft: all the latest news on the global IT ...\u001b[0m\n",
      "Thought:\u001b[32;1m\u001b[1;3m I should also check for any updates from Microsoft or CrowdStrike themselves\n",
      "Action: google-search\n",
      "Action Input: \"Microsoft and Crowdstrike official updates\"\u001b[0m\n",
      "Observation: \u001b[36;1m\u001b[1;3mJul 20, 2024 ... Although this was not a Microsoft incident, given it impacts our ecosystem, we want to provide an update on the steps we've taken with ... Jul 20, 2024 ... The Microsoft Recovery Tool was updated 7/22/2024 as version 3.1. While fundamentally there are no functional changes to the tool, ... ... Updated 2024-07-21 1810 UTC. Microsoft Azure ... Update Recovery For Windows Hosts. Cohesity Support. Cohesity's support for CrowdStrike's Falcon Sensor updates ... 6 days ago ... Hello, my personal windows 11 laptop just got the crowdstrike update and now it's stuck at bsod. I already enter my bitlocker recovery key, ... 7 days ago ... CrowdStrike's faulty update crashed 8.5 million Windows devices, says Microsoft ... How many companies have gone down for a long time because that ... Jul 19, 2024 ... A faulty software update from cybersecurity vendor Crowdstrike crippled countless Microsoft Windows computers across the globe today, ... Jul 20, 2024 ... Microsoft estimates that CrowdStrike update affected 8 million devices ... From the official MS blog: While software updates may occasionally ... Jul 19, 2024 ... CrowdStrike is actively working with customers impacted by a defect found in a single content update for Windows hosts. Mac and Linux hosts ... Jul 19, 2024 ... CrowdStrike continues to provide updates to its ... In the blog post, Microsoft estimates the outage affected 8.5 million Windows devices. Jul 19, 2024 ... The CrowdStrike EDR driver update has affected airports, banks and stores around the world.\u001b[0m\n",
      "Thought:\u001b[32;1m\u001b[1;3m I now know the final answer\n",
      "Final Answer: The latest news on Microsoft and Crowdstrike is that a faulty software update from CrowdStrike caused major outages for Windows devices, affecting millions of devices. Microsoft has released a recovery tool and is working with customers to address the issue. Both companies have provided updates on the situation.\u001b[0m\n",
      "\n",
      "\u001b[1m> Finished chain.\u001b[0m\n",
      "The latest news on Microsoft and Crowdstrike is that a faulty software update from CrowdStrike caused major outages for Windows devices, affecting millions of devices. Microsoft has released a recovery tool and is working with customers to address the issue. Both companies have provided updates on the situation.\n"
     ]
    }
   ],
   "source": [
    "response = agent(\"What's the latest news on Microsoft and Crowdstrike\")\n",
    "print(response['output'])"
   ]
  },
  {
   "cell_type": "code",
   "execution_count": null,
   "metadata": {},
   "outputs": [],
   "source": []
  },
  {
   "cell_type": "code",
   "execution_count": 1,
   "metadata": {},
   "outputs": [
    {
     "name": "stderr",
     "output_type": "stream",
     "text": [
      "/home/fulim/projects/langchain-vector_db/langchain-vector_db/lib/python3.10/site-packages/langchain_core/_api/deprecation.py:139: LangChainDeprecationWarning: The class `OpenAI` was deprecated in LangChain 0.0.10 and will be removed in 0.3.0. An updated version of the class exists in the langchain-openai package and should be used instead. To use it run `pip install -U langchain-openai` and import as `from langchain_openai import OpenAI`.\n",
      "  warn_deprecated(\n",
      "/home/fulim/projects/langchain-vector_db/langchain-vector_db/lib/python3.10/site-packages/langchain_core/_api/deprecation.py:139: LangChainDeprecationWarning: The class `LLMChain` was deprecated in LangChain 0.1.17 and will be removed in 1.0. Use RunnableSequence, e.g., `prompt | llm` instead.\n",
      "  warn_deprecated(\n"
     ]
    }
   ],
   "source": [
    "from langchain.llms import OpenAI\n",
    "from langchain.agents import Tool, AgentType, initialize_agent\n",
    "from langchain.prompts import PromptTemplate\n",
    "from langchain.chains import LLMChain\n",
    "from langchain.utilities import GoogleSearchAPIWrapper\n",
    "\n",
    "llm = OpenAI(model=\"gpt-3.5-turbo-instruct\", temperature=0)\n",
    "\n",
    "prompt = PromptTemplate(\n",
    "    input_variables=['query'],\n",
    "    template=\"Write a summary of the following text: {query}\"\n",
    ")\n",
    "\n",
    "summarize_chain = LLMChain(llm=llm, prompt=prompt)"
   ]
  },
  {
   "cell_type": "code",
   "execution_count": 30,
   "metadata": {},
   "outputs": [
    {
     "name": "stdout",
     "output_type": "stream",
     "text": [
      "\n",
      "\n",
      "\u001b[1m> Entering new AgentExecutor chain...\u001b[0m\n",
      "\u001b[32;1m\u001b[1;3m I should use the Search tool to find information about recent events related to the LLama 3.1 model and openai gpt-4o.\n",
      "Action: Search\n",
      "Action Input: \"LLama 3.1 model openai gpt-4o performance\"\u001b[0m\n",
      "Observation: \u001b[36;1m\u001b[1;3m19 hours ago ... ... performance, specialization, and adaptability. But, trying it, I got to see that Llama 3.1 405B outperforms GPT-4 , but it underperforms GPT ... 4 days ago ... Explore Meta's Llama 3.1, a powerful open-source AI model. Compare its performance with GPT-4o mini across 10 tasks and more. 4 days ago ... Only names.” It illustrates quite well how the gpt-4 models quickly slides of topic. LLAMA 3.1 8b: Project Manager; Task; User; Role; Department ... 3 days ago ... llama 3.1 405b has proved that these GPT models' ability are roughly coorelated to number of parameters. Mini is quite good, much better than I' ... 5 days ago ... - GPT-4o mini is definitely a stronger base model though, so I assume the questionable performance here is something that OpenAI could fix ... 5 days ago ... Llama 3.1 405B is the first openly available model ... For this release, we evaluated performance on over 150 benchmark datasets that span a wide ... 5 days ago ... ... model with performance that matched the best private models ... Meta claims that Llama 3.1 costs roughly half that of OpenAI's GPT-4o to run in ... Guys fine-tuned Llama 3.1 8B is completely cracked. Just ran it through our fine-tuning test suite and blows GPT-4o mini out of the water on every task. There ... 4 days ago ... Meta releases Llama 3.1 405B, a large open-source language model designed to compete with closed models like GPT-4o and Claude 3.5 Sonnet. 5 days ago ... OpenAI unveils GPT-4o mini, a small AI model powering ChatGPT, Meta releases the biggest and best open-source AI model yet, Hugging Face ...\u001b[0m\n",
      "Thought:\u001b[32;1m\u001b[1;3m I should use the Summarizer tool to summarize the results of my search.\n",
      "Action: Summarizer\n",
      "Action Input: \"19 hours ago ... ... performance, specialization, and adaptability. But, trying it, I got to see that Llama 3.1 405B outperforms GPT-4 , but it underperforms GPT ... 4 days ago ... Explore Meta's Llama 3.1, a powerful open-source AI model. Compare its performance with GPT-4o mini across 10 tasks and more. 4 days ago ... Only names.” It illustrates quite well how the gpt-4 models quickly slides of topic. LLAMA 3.1 8b: Project Manager; Task; User; Role; Department ... 3 days ago ... llama 3.1 405b has proved that these GPT models' ability are roughly coorelated to number of parameters. Mini is quite good, much better than I' ... 5 days ago ... - GPT-4o mini is definitely a stronger base model though, so I assume the questionable performance here is something that OpenAI could fix ... 5 days ago ... Llama 3.1 405B is the\u001b[0m\n",
      "Observation: \u001b[33;1m\u001b[1;3m latest open-source AI model developed by Meta. It has been compared to GPT-4o mini and has shown to outperform it in terms of performance, specialization, and adaptability. However, it underperforms compared to GPT-4 in some tasks. The model has been tested across 10 tasks and has been found to be a powerful AI model. It has also been noted that GPT-4 models tend to quickly go off-topic, as shown in a project management example. Llama 3.1 405B has also shown that the performance of GPT models is correlated to the number of parameters, with Mini being a strong base model. There is potential for OpenAI to improve the performance of GPT-4o mini.\u001b[0m\n",
      "Thought:\u001b[32;1m\u001b[1;3m I now know the final answer.\n",
      "Final Answer: The LLama 3.1 model has been compared to openai gpt-4o in terms of performance and has been found to outperform it in some tasks, but underperform in others. The model has been tested across 10 tasks and has been found to be a powerful AI model. There is potential for OpenAI to improve the performance of GPT-4o mini.\u001b[0m\n",
      "\n",
      "\u001b[1m> Finished chain.\u001b[0m\n",
      "The LLama 3.1 model has been compared to openai gpt-4o in terms of performance and has been found to outperform it in some tasks, but underperform in others. The model has been tested across 10 tasks and has been found to be a powerful AI model. There is potential for OpenAI to improve the performance of GPT-4o mini.\n"
     ]
    }
   ],
   "source": [
    "search = GoogleSearchAPIWrapper()\n",
    "\n",
    "\n",
    "tools = [\n",
    "    Tool(\n",
    "        name=\"Search\",\n",
    "        func=search.run,\n",
    "        description=\"useful for finding information about recent events\"\n",
    "    ),\n",
    "    Tool(\n",
    "        name=\"Summarizer\",\n",
    "        func=summarize_chain.run,\n",
    "        description=\"useful for summarizing texts\"\n",
    "    ),\n",
    "]\n",
    "\n",
    "agent = initialize_agent(\n",
    "    tools,\n",
    "    llm,\n",
    "    agent=AgentType.ZERO_SHOT_REACT_DESCRIPTION,\n",
    "    verbose=True  \n",
    ")\n",
    "\n",
    "response = agent(\"What's the latest news about the LLama 3.1 model with compare to openai gpt-4o in term of performance? Then please summarize the results.\")\n",
    "print(response['output'])"
   ]
  },
  {
   "cell_type": "code",
   "execution_count": null,
   "metadata": {},
   "outputs": [],
   "source": []
  }
 ],
 "metadata": {
  "kernelspec": {
   "display_name": "langchain-vector_db",
   "language": "python",
   "name": "python3"
  },
  "language_info": {
   "codemirror_mode": {
    "name": "ipython",
    "version": 3
   },
   "file_extension": ".py",
   "mimetype": "text/x-python",
   "name": "python",
   "nbconvert_exporter": "python",
   "pygments_lexer": "ipython3",
   "version": "3.10.12"
  }
 },
 "nbformat": 4,
 "nbformat_minor": 2
}
